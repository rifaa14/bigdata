{
  "nbformat": 4,
  "nbformat_minor": 0,
  "metadata": {
    "colab": {
      "name": "Untitled1.ipynb",
      "provenance": [],
      "collapsed_sections": [],
      "authorship_tag": "ABX9TyNVLbjCor5NBMtWmafvd0Li",
      "include_colab_link": true
    },
    "kernelspec": {
      "name": "python3",
      "display_name": "Python 3"
    },
    "language_info": {
      "name": "python"
    }
  },
  "cells": [
    {
      "cell_type": "markdown",
      "metadata": {
        "id": "view-in-github",
        "colab_type": "text"
      },
      "source": [
        "<a href=\"https://colab.research.google.com/github/rifaa14/bigdata/blob/main/linear_regression.ipynb\" target=\"_parent\"><img src=\"https://colab.research.google.com/assets/colab-badge.svg\" alt=\"Open In Colab\"/></a>"
      ]
    },
    {
      "cell_type": "markdown",
      "metadata": {
        "id": "XNGTsGJlEHwk"
      },
      "source": [
        "\n",
        "## Linear Regression"
      ]
    },
    {
      "cell_type": "code",
      "metadata": {
        "id": "aEihHC1mD8E_"
      },
      "source": [
        "#import library\n",
        "import pandas as pd\n",
        "import numpy as np\n",
        "import seaborn as sns\n",
        "%matplotlib inline\n",
        "import matplotlib.pyplot as plt\n",
        "import math"
      ],
      "execution_count": 18,
      "outputs": []
    },
    {
      "cell_type": "code",
      "metadata": {
        "colab": {
          "base_uri": "https://localhost:8080/",
          "height": 204
        },
        "id": "aWAAVv84RJc4",
        "outputId": "d51545e6-59d1-45ac-ad09-60cc96689a03"
      },
      "source": [
        "#import dataset\n",
        "dataset = pd.read_csv(\"/content/prices-split-adjusted.csv.zip\")\n",
        "dataset.head()"
      ],
      "execution_count": 19,
      "outputs": [
        {
          "output_type": "execute_result",
          "data": {
            "text/html": [
              "<div>\n",
              "<style scoped>\n",
              "    .dataframe tbody tr th:only-of-type {\n",
              "        vertical-align: middle;\n",
              "    }\n",
              "\n",
              "    .dataframe tbody tr th {\n",
              "        vertical-align: top;\n",
              "    }\n",
              "\n",
              "    .dataframe thead th {\n",
              "        text-align: right;\n",
              "    }\n",
              "</style>\n",
              "<table border=\"1\" class=\"dataframe\">\n",
              "  <thead>\n",
              "    <tr style=\"text-align: right;\">\n",
              "      <th></th>\n",
              "      <th>date</th>\n",
              "      <th>symbol</th>\n",
              "      <th>open</th>\n",
              "      <th>close</th>\n",
              "      <th>low</th>\n",
              "      <th>high</th>\n",
              "      <th>volume</th>\n",
              "    </tr>\n",
              "  </thead>\n",
              "  <tbody>\n",
              "    <tr>\n",
              "      <th>0</th>\n",
              "      <td>2016-01-05</td>\n",
              "      <td>WLTW</td>\n",
              "      <td>123.430000</td>\n",
              "      <td>125.839996</td>\n",
              "      <td>122.309998</td>\n",
              "      <td>126.250000</td>\n",
              "      <td>2163600.0</td>\n",
              "    </tr>\n",
              "    <tr>\n",
              "      <th>1</th>\n",
              "      <td>2016-01-06</td>\n",
              "      <td>WLTW</td>\n",
              "      <td>125.239998</td>\n",
              "      <td>119.980003</td>\n",
              "      <td>119.940002</td>\n",
              "      <td>125.540001</td>\n",
              "      <td>2386400.0</td>\n",
              "    </tr>\n",
              "    <tr>\n",
              "      <th>2</th>\n",
              "      <td>2016-01-07</td>\n",
              "      <td>WLTW</td>\n",
              "      <td>116.379997</td>\n",
              "      <td>114.949997</td>\n",
              "      <td>114.930000</td>\n",
              "      <td>119.739998</td>\n",
              "      <td>2489500.0</td>\n",
              "    </tr>\n",
              "    <tr>\n",
              "      <th>3</th>\n",
              "      <td>2016-01-08</td>\n",
              "      <td>WLTW</td>\n",
              "      <td>115.480003</td>\n",
              "      <td>116.620003</td>\n",
              "      <td>113.500000</td>\n",
              "      <td>117.440002</td>\n",
              "      <td>2006300.0</td>\n",
              "    </tr>\n",
              "    <tr>\n",
              "      <th>4</th>\n",
              "      <td>2016-01-11</td>\n",
              "      <td>WLTW</td>\n",
              "      <td>117.010002</td>\n",
              "      <td>114.970001</td>\n",
              "      <td>114.089996</td>\n",
              "      <td>117.330002</td>\n",
              "      <td>1408600.0</td>\n",
              "    </tr>\n",
              "  </tbody>\n",
              "</table>\n",
              "</div>"
            ],
            "text/plain": [
              "         date symbol        open       close         low        high     volume\n",
              "0  2016-01-05   WLTW  123.430000  125.839996  122.309998  126.250000  2163600.0\n",
              "1  2016-01-06   WLTW  125.239998  119.980003  119.940002  125.540001  2386400.0\n",
              "2  2016-01-07   WLTW  116.379997  114.949997  114.930000  119.739998  2489500.0\n",
              "3  2016-01-08   WLTW  115.480003  116.620003  113.500000  117.440002  2006300.0\n",
              "4  2016-01-11   WLTW  117.010002  114.970001  114.089996  117.330002  1408600.0"
            ]
          },
          "metadata": {
            "tags": []
          },
          "execution_count": 19
        }
      ]
    },
    {
      "cell_type": "code",
      "metadata": {
        "colab": {
          "base_uri": "https://localhost:8080/"
        },
        "id": "2vrwjz9NS4X0",
        "outputId": "6a65a526-01f5-4fd5-a065-8a2332ba920a"
      },
      "source": [
        "#cek jumlah dataset\n",
        "print(str(len(dataset.index)))"
      ],
      "execution_count": 20,
      "outputs": [
        {
          "output_type": "stream",
          "text": [
            "851264\n"
          ],
          "name": "stdout"
        }
      ]
    },
    {
      "cell_type": "code",
      "metadata": {
        "colab": {
          "base_uri": "https://localhost:8080/",
          "height": 297
        },
        "id": "WgZBivu5T1L6",
        "outputId": "647d8685-02d0-4a9b-a4dd-a78eae8ab9ee"
      },
      "source": [
        "#analisis deskriptif dataset\n",
        "dataset.describe()"
      ],
      "execution_count": 21,
      "outputs": [
        {
          "output_type": "execute_result",
          "data": {
            "text/html": [
              "<div>\n",
              "<style scoped>\n",
              "    .dataframe tbody tr th:only-of-type {\n",
              "        vertical-align: middle;\n",
              "    }\n",
              "\n",
              "    .dataframe tbody tr th {\n",
              "        vertical-align: top;\n",
              "    }\n",
              "\n",
              "    .dataframe thead th {\n",
              "        text-align: right;\n",
              "    }\n",
              "</style>\n",
              "<table border=\"1\" class=\"dataframe\">\n",
              "  <thead>\n",
              "    <tr style=\"text-align: right;\">\n",
              "      <th></th>\n",
              "      <th>open</th>\n",
              "      <th>close</th>\n",
              "      <th>low</th>\n",
              "      <th>high</th>\n",
              "      <th>volume</th>\n",
              "    </tr>\n",
              "  </thead>\n",
              "  <tbody>\n",
              "    <tr>\n",
              "      <th>count</th>\n",
              "      <td>851264.000000</td>\n",
              "      <td>851264.000000</td>\n",
              "      <td>851264.000000</td>\n",
              "      <td>851264.000000</td>\n",
              "      <td>8.512640e+05</td>\n",
              "    </tr>\n",
              "    <tr>\n",
              "      <th>mean</th>\n",
              "      <td>64.993618</td>\n",
              "      <td>65.011913</td>\n",
              "      <td>64.336541</td>\n",
              "      <td>65.639748</td>\n",
              "      <td>5.415113e+06</td>\n",
              "    </tr>\n",
              "    <tr>\n",
              "      <th>std</th>\n",
              "      <td>75.203893</td>\n",
              "      <td>75.201216</td>\n",
              "      <td>74.459518</td>\n",
              "      <td>75.906861</td>\n",
              "      <td>1.249468e+07</td>\n",
              "    </tr>\n",
              "    <tr>\n",
              "      <th>min</th>\n",
              "      <td>1.660000</td>\n",
              "      <td>1.590000</td>\n",
              "      <td>1.500000</td>\n",
              "      <td>1.810000</td>\n",
              "      <td>0.000000e+00</td>\n",
              "    </tr>\n",
              "    <tr>\n",
              "      <th>25%</th>\n",
              "      <td>31.270000</td>\n",
              "      <td>31.292776</td>\n",
              "      <td>30.940001</td>\n",
              "      <td>31.620001</td>\n",
              "      <td>1.221500e+06</td>\n",
              "    </tr>\n",
              "    <tr>\n",
              "      <th>50%</th>\n",
              "      <td>48.459999</td>\n",
              "      <td>48.480000</td>\n",
              "      <td>47.970001</td>\n",
              "      <td>48.959999</td>\n",
              "      <td>2.476250e+06</td>\n",
              "    </tr>\n",
              "    <tr>\n",
              "      <th>75%</th>\n",
              "      <td>75.120003</td>\n",
              "      <td>75.139999</td>\n",
              "      <td>74.400002</td>\n",
              "      <td>75.849998</td>\n",
              "      <td>5.222500e+06</td>\n",
              "    </tr>\n",
              "    <tr>\n",
              "      <th>max</th>\n",
              "      <td>1584.439941</td>\n",
              "      <td>1578.130005</td>\n",
              "      <td>1549.939941</td>\n",
              "      <td>1600.930054</td>\n",
              "      <td>8.596434e+08</td>\n",
              "    </tr>\n",
              "  </tbody>\n",
              "</table>\n",
              "</div>"
            ],
            "text/plain": [
              "                open          close            low           high        volume\n",
              "count  851264.000000  851264.000000  851264.000000  851264.000000  8.512640e+05\n",
              "mean       64.993618      65.011913      64.336541      65.639748  5.415113e+06\n",
              "std        75.203893      75.201216      74.459518      75.906861  1.249468e+07\n",
              "min         1.660000       1.590000       1.500000       1.810000  0.000000e+00\n",
              "25%        31.270000      31.292776      30.940001      31.620001  1.221500e+06\n",
              "50%        48.459999      48.480000      47.970001      48.959999  2.476250e+06\n",
              "75%        75.120003      75.139999      74.400002      75.849998  5.222500e+06\n",
              "max      1584.439941    1578.130005    1549.939941    1600.930054  8.596434e+08"
            ]
          },
          "metadata": {
            "tags": []
          },
          "execution_count": 21
        }
      ]
    },
    {
      "cell_type": "code",
      "metadata": {
        "colab": {
          "base_uri": "https://localhost:8080/",
          "height": 295
        },
        "id": "TPQcBTE8UiXT",
        "outputId": "cb001f07-df1a-4ee5-9505-ab0ba4e60ceb"
      },
      "source": [
        "#menampilkan grafik plot, koordinat x = harga tertinggi dan koordinat y=harga penutup\n",
        "dataset.plot(x='high', y='close', style='o')\n",
        "plt.title('Harga Penutup Berdasarkan Harga Tertinggi ')\n",
        "plt.xlabel('Harga Tertinggi')\n",
        "plt.ylabel('Harga Penutup')\n",
        "plt.show()"
      ],
      "execution_count": 22,
      "outputs": [
        {
          "output_type": "display_data",
          "data": {
            "image/png": "[encoded data removed]",
            "text/plain": [
              "<Figure size 432x288 with 1 Axes>"
            ]
          },
          "metadata": {
            "tags": [],
            "needs_background": "light"
          }
        }
      ]
    },
    {
      "cell_type": "code",
      "metadata": {
        "colab": {
          "base_uri": "https://localhost:8080/",
          "height": 204
        },
        "id": "9j8FESoXU5s_",
        "outputId": "d10e6915-0c81-42f9-e37c-8e2c2caa4398"
      },
      "source": [
        "datasets = dataset[[\"close\", \"high\"]]\n",
        "datasets.head()"
      ],
      "execution_count": 23,
      "outputs": [
        {
          "output_type": "execute_result",
          "data": {
            "text/html": [
              "<div>\n",
              "<style scoped>\n",
              "    .dataframe tbody tr th:only-of-type {\n",
              "        vertical-align: middle;\n",
              "    }\n",
              "\n",
              "    .dataframe tbody tr th {\n",
              "        vertical-align: top;\n",
              "    }\n",
              "\n",
              "    .dataframe thead th {\n",
              "        text-align: right;\n",
              "    }\n",
              "</style>\n",
              "<table border=\"1\" class=\"dataframe\">\n",
              "  <thead>\n",
              "    <tr style=\"text-align: right;\">\n",
              "      <th></th>\n",
              "      <th>close</th>\n",
              "      <th>high</th>\n",
              "    </tr>\n",
              "  </thead>\n",
              "  <tbody>\n",
              "    <tr>\n",
              "      <th>0</th>\n",
              "      <td>125.839996</td>\n",
              "      <td>126.250000</td>\n",
              "    </tr>\n",
              "    <tr>\n",
              "      <th>1</th>\n",
              "      <td>119.980003</td>\n",
              "      <td>125.540001</td>\n",
              "    </tr>\n",
              "    <tr>\n",
              "      <th>2</th>\n",
              "      <td>114.949997</td>\n",
              "      <td>119.739998</td>\n",
              "    </tr>\n",
              "    <tr>\n",
              "      <th>3</th>\n",
              "      <td>116.620003</td>\n",
              "      <td>117.440002</td>\n",
              "    </tr>\n",
              "    <tr>\n",
              "      <th>4</th>\n",
              "      <td>114.970001</td>\n",
              "      <td>117.330002</td>\n",
              "    </tr>\n",
              "  </tbody>\n",
              "</table>\n",
              "</div>"
            ],
            "text/plain": [
              "        close        high\n",
              "0  125.839996  126.250000\n",
              "1  119.980003  125.540001\n",
              "2  114.949997  119.739998\n",
              "3  116.620003  117.440002\n",
              "4  114.970001  117.330002"
            ]
          },
          "metadata": {
            "tags": []
          },
          "execution_count": 23
        }
      ]
    },
    {
      "cell_type": "code",
      "metadata": {
        "id": "XL-qXqnMVAqU"
      },
      "source": [
        "#menentukan variabel independen (sumbu X) Harga Tertinggi dan menentukan variabel dependen (sumbu Y) Harga Penutup\n",
        "x = datasets.iloc[:,:-1].values\n",
        "y = datasets.iloc[:, 1].values"
      ],
      "execution_count": 24,
      "outputs": []
    },
    {
      "cell_type": "code",
      "metadata": {
        "id": "kyFi6ZHcWRSe"
      },
      "source": [
        "#pembagian data menjadi dua bagian untuk data training (training set) dan data test (test set)\n",
        "#80% untuk data training dan 20% untuk data test\n",
        "from sklearn.model_selection import train_test_split\n",
        "x_train, x_test, y_train, y_test = train_test_split(x,y,test_size=0.2, random_state=0)"
      ],
      "execution_count": 25,
      "outputs": []
    },
    {
      "cell_type": "markdown",
      "metadata": {
        "id": "91rIzwDMZcv6"
      },
      "source": [
        "### Simple Linear Regression"
      ]
    },
    {
      "cell_type": "code",
      "metadata": {
        "colab": {
          "base_uri": "https://localhost:8080/"
        },
        "id": "7JPnOJOaWZo5",
        "outputId": "f54808d5-c064-4337-b225-2fcd6cb8a35d"
      },
      "source": [
        "#import class LinearRegression dari library sklearn.linear_model untuk membuat model regresi\n",
        "#membuat objek regressor sebagai fungsi dari LinearRegression \n",
        "#membuat model regresi untuk data training dengan menuliskan regressor.fit(x_train, y_train)\n",
        "from sklearn.linear_model import LinearRegression\n",
        "lireg=LinearRegression() # initialize the model\n",
        "lireg.fit(x_train,y_train) # fit he model"
      ],
      "execution_count": 26,
      "outputs": [
        {
          "output_type": "execute_result",
          "data": {
            "text/plain": [
              "LinearRegression(copy_X=True, fit_intercept=True, n_jobs=None, normalize=False)"
            ]
          },
          "metadata": {
            "tags": []
          },
          "execution_count": 26
        }
      ]
    },
    {
      "cell_type": "code",
      "metadata": {
        "colab": {
          "base_uri": "https://localhost:8080/",
          "height": 419
        },
        "id": "EjH3IGYsXiq_",
        "outputId": "5ba553e9-f1b6-4c17-bf0a-90897d619d79"
      },
      "source": [
        "#melakukan prediksi\n",
        "y_pred=lireg.predict(x_test)\n",
        "dataframe = pd.DataFrame({'Data Sebenarnya' : y_test, 'Data Prediksi' : y_pred})\n",
        "dataframe"
      ],
      "execution_count": 27,
      "outputs": [
        {
          "output_type": "execute_result",
          "data": {
            "text/html": [
              "<div>\n",
              "<style scoped>\n",
              "    .dataframe tbody tr th:only-of-type {\n",
              "        vertical-align: middle;\n",
              "    }\n",
              "\n",
              "    .dataframe tbody tr th {\n",
              "        vertical-align: top;\n",
              "    }\n",
              "\n",
              "    .dataframe thead th {\n",
              "        text-align: right;\n",
              "    }\n",
              "</style>\n",
              "<table border=\"1\" class=\"dataframe\">\n",
              "  <thead>\n",
              "    <tr style=\"text-align: right;\">\n",
              "      <th></th>\n",
              "      <th>Data Sebenarnya</th>\n",
              "      <th>Data Prediksi</th>\n",
              "    </tr>\n",
              "  </thead>\n",
              "  <tbody>\n",
              "    <tr>\n",
              "      <th>0</th>\n",
              "      <td>45.799999</td>\n",
              "      <td>45.835434</td>\n",
              "    </tr>\n",
              "    <tr>\n",
              "      <th>1</th>\n",
              "      <td>64.690002</td>\n",
              "      <td>65.202844</td>\n",
              "    </tr>\n",
              "    <tr>\n",
              "      <th>2</th>\n",
              "      <td>111.779999</td>\n",
              "      <td>111.718933</td>\n",
              "    </tr>\n",
              "    <tr>\n",
              "      <th>3</th>\n",
              "      <td>41.000000</td>\n",
              "      <td>41.112168</td>\n",
              "    </tr>\n",
              "    <tr>\n",
              "      <th>4</th>\n",
              "      <td>42.439999</td>\n",
              "      <td>42.817795</td>\n",
              "    </tr>\n",
              "    <tr>\n",
              "      <th>...</th>\n",
              "      <td>...</td>\n",
              "      <td>...</td>\n",
              "    </tr>\n",
              "    <tr>\n",
              "      <th>170248</th>\n",
              "      <td>40.650002</td>\n",
              "      <td>41.041521</td>\n",
              "    </tr>\n",
              "    <tr>\n",
              "      <th>170249</th>\n",
              "      <td>83.480003</td>\n",
              "      <td>83.561002</td>\n",
              "    </tr>\n",
              "    <tr>\n",
              "      <th>170250</th>\n",
              "      <td>47.709999</td>\n",
              "      <td>47.954851</td>\n",
              "    </tr>\n",
              "    <tr>\n",
              "      <th>170251</th>\n",
              "      <td>71.379997</td>\n",
              "      <td>71.742746</td>\n",
              "    </tr>\n",
              "    <tr>\n",
              "      <th>170252</th>\n",
              "      <td>72.000000</td>\n",
              "      <td>72.186816</td>\n",
              "    </tr>\n",
              "  </tbody>\n",
              "</table>\n",
              "<p>170253 rows × 2 columns</p>\n",
              "</div>"
            ],
            "text/plain": [
              "        Data Sebenarnya  Data Prediksi\n",
              "0             45.799999      45.835434\n",
              "1             64.690002      65.202844\n",
              "2            111.779999     111.718933\n",
              "3             41.000000      41.112168\n",
              "4             42.439999      42.817795\n",
              "...                 ...            ...\n",
              "170248        40.650002      41.041521\n",
              "170249        83.480003      83.561002\n",
              "170250        47.709999      47.954851\n",
              "170251        71.379997      71.742746\n",
              "170252        72.000000      72.186816\n",
              "\n",
              "[170253 rows x 2 columns]"
            ]
          },
          "metadata": {
            "tags": []
          },
          "execution_count": 27
        }
      ]
    },
    {
      "cell_type": "code",
      "metadata": {
        "colab": {
          "base_uri": "https://localhost:8080/",
          "height": 295
        },
        "id": "PfWb8XNmXwts",
        "outputId": "50ea2c7a-ede3-4e87-d593-1b71fce12599"
      },
      "source": [
        "#visualisasi hasil test set\n",
        "%matplotlib inline\n",
        "from matplotlib import pyplot as plt\n",
        "plt.scatter(x_test, y_test, color = 'red')\n",
        "plt.plot(x_train, lireg.predict(x_train), color = 'blue' )\n",
        "plt.title('Harga Penutup Berdasarkan Harga Tertinggi')\n",
        "plt.xlabel('Harga Tertinggi')\n",
        "plt.ylabel('Harga Penutup')\n",
        "plt.show()"
      ],
      "execution_count": 28,
      "outputs": [
        {
          "output_type": "display_data",
          "data": {
            "image/png": "[encoded data removed]",
            "text/plain": [
              "<Figure size 432x288 with 1 Axes>"
            ]
          },
          "metadata": {
            "tags": [],
            "needs_background": "light"
          }
        }
      ]
    },
    {
      "cell_type": "code",
      "metadata": {
        "colab": {
          "base_uri": "https://localhost:8080/",
          "height": 295
        },
        "id": "27a6XsekX3Kg",
        "outputId": "34aaa092-a71b-4fd0-c55a-770fb3f2f8c7"
      },
      "source": [
        "#visualisasi hasil Training Set\n",
        "%matplotlib inline\n",
        "from matplotlib import pyplot as plt\n",
        "plt.scatter(x_train, y_train, color = 'red')\n",
        "plt.plot(x_train, lireg.predict(x_train), color = 'blue' )\n",
        "plt.title('Harga Penutup Berdasarkan Harga Tertinggi')\n",
        "plt.xlabel('Harga Tertinggi')\n",
        "plt.ylabel('Harga Penutup')\n",
        "plt.show()"
      ],
      "execution_count": 29,
      "outputs": [
        {
          "output_type": "display_data",
          "data": {
            "image/png": "[encoded data removed]",
            "text/plain": [
              "<Figure size 432x288 with 1 Axes>"
            ]
          },
          "metadata": {
            "tags": [],
            "needs_background": "light"
          }
        }
      ]
    },
    {
      "cell_type": "markdown",
      "metadata": {
        "id": "GAEEykx6YCd5"
      },
      "source": [
        "### Multiple linear regression"
      ]
    },
    {
      "cell_type": "code",
      "metadata": {
        "colab": {
          "base_uri": "https://localhost:8080/"
        },
        "id": "u5WOyP9QYFiN",
        "outputId": "df414926-5260-4e7a-ae1e-750f5c71fd31"
      },
      "source": [
        "#membuat model multiple linear regression\n",
        "from sklearn.linear_model import LinearRegression\n",
        "regressor = LinearRegression()\n",
        "regressor.fit(x_train, y_train)"
      ],
      "execution_count": 30,
      "outputs": [
        {
          "output_type": "execute_result",
          "data": {
            "text/plain": [
              "LinearRegression(copy_X=True, fit_intercept=True, n_jobs=None, normalize=False)"
            ]
          },
          "metadata": {
            "tags": []
          },
          "execution_count": 30
        }
      ]
    },
    {
      "cell_type": "code",
      "metadata": {
        "id": "7hOYxW9iYVlm",
        "colab": {
          "base_uri": "https://localhost:8080/",
          "height": 419
        },
        "outputId": "cccb64b4-577d-4942-c877-b0f3cb8f1348"
      },
      "source": [
        "#membuat prediksi hasil test set\n",
        "#membandingkan nilai test set dengan nilai prediksi\n",
        "y_pred = regressor.predict(x_test)\n",
        "y_pred = regressor.predict(x_test)\n",
        "df = pd.DataFrame({'Real Values':y_test, 'Predicted Values':y_pred})\n",
        "df"
      ],
      "execution_count": 31,
      "outputs": [
        {
          "output_type": "execute_result",
          "data": {
            "text/html": [
              "<div>\n",
              "<style scoped>\n",
              "    .dataframe tbody tr th:only-of-type {\n",
              "        vertical-align: middle;\n",
              "    }\n",
              "\n",
              "    .dataframe tbody tr th {\n",
              "        vertical-align: top;\n",
              "    }\n",
              "\n",
              "    .dataframe thead th {\n",
              "        text-align: right;\n",
              "    }\n",
              "</style>\n",
              "<table border=\"1\" class=\"dataframe\">\n",
              "  <thead>\n",
              "    <tr style=\"text-align: right;\">\n",
              "      <th></th>\n",
              "      <th>Real Values</th>\n",
              "      <th>Predicted Values</th>\n",
              "    </tr>\n",
              "  </thead>\n",
              "  <tbody>\n",
              "    <tr>\n",
              "      <th>0</th>\n",
              "      <td>45.799999</td>\n",
              "      <td>45.835434</td>\n",
              "    </tr>\n",
              "    <tr>\n",
              "      <th>1</th>\n",
              "      <td>64.690002</td>\n",
              "      <td>65.202844</td>\n",
              "    </tr>\n",
              "    <tr>\n",
              "      <th>2</th>\n",
              "      <td>111.779999</td>\n",
              "      <td>111.718933</td>\n",
              "    </tr>\n",
              "    <tr>\n",
              "      <th>3</th>\n",
              "      <td>41.000000</td>\n",
              "      <td>41.112168</td>\n",
              "    </tr>\n",
              "    <tr>\n",
              "      <th>4</th>\n",
              "      <td>42.439999</td>\n",
              "      <td>42.817795</td>\n",
              "    </tr>\n",
              "    <tr>\n",
              "      <th>...</th>\n",
              "      <td>...</td>\n",
              "      <td>...</td>\n",
              "    </tr>\n",
              "    <tr>\n",
              "      <th>170248</th>\n",
              "      <td>40.650002</td>\n",
              "      <td>41.041521</td>\n",
              "    </tr>\n",
              "    <tr>\n",
              "      <th>170249</th>\n",
              "      <td>83.480003</td>\n",
              "      <td>83.561002</td>\n",
              "    </tr>\n",
              "    <tr>\n",
              "      <th>170250</th>\n",
              "      <td>47.709999</td>\n",
              "      <td>47.954851</td>\n",
              "    </tr>\n",
              "    <tr>\n",
              "      <th>170251</th>\n",
              "      <td>71.379997</td>\n",
              "      <td>71.742746</td>\n",
              "    </tr>\n",
              "    <tr>\n",
              "      <th>170252</th>\n",
              "      <td>72.000000</td>\n",
              "      <td>72.186816</td>\n",
              "    </tr>\n",
              "  </tbody>\n",
              "</table>\n",
              "<p>170253 rows × 2 columns</p>\n",
              "</div>"
            ],
            "text/plain": [
              "        Real Values  Predicted Values\n",
              "0         45.799999         45.835434\n",
              "1         64.690002         65.202844\n",
              "2        111.779999        111.718933\n",
              "3         41.000000         41.112168\n",
              "4         42.439999         42.817795\n",
              "...             ...               ...\n",
              "170248    40.650002         41.041521\n",
              "170249    83.480003         83.561002\n",
              "170250    47.709999         47.954851\n",
              "170251    71.379997         71.742746\n",
              "170252    72.000000         72.186816\n",
              "\n",
              "[170253 rows x 2 columns]"
            ]
          },
          "metadata": {
            "tags": []
          },
          "execution_count": 31
        }
      ]
    },
    {
      "cell_type": "code",
      "metadata": {
        "colab": {
          "base_uri": "https://localhost:8080/",
          "height": 295
        },
        "id": "w4UjjYfvdPEf",
        "outputId": "df12eccc-9e4b-46d8-e8e1-f8fa64c236d9"
      },
      "source": [
        "#visualisasi hasil test set\n",
        "%matplotlib inline\n",
        "from matplotlib import pyplot as plt\n",
        "plt.scatter(y_test, x_test[:,0], color ='red')\n",
        "plt.plot(x_train, regressor.predict(x_train), color = 'blue' )\n",
        "plt.title('Harga Penutup Berdasarkan Harga Tertinggi')\n",
        "plt.xlabel('Harga Tertinggi')\n",
        "plt.ylabel('Harga Penutup')\n",
        "plt.show()"
      ],
      "execution_count": 32,
      "outputs": [
        {
          "output_type": "display_data",
          "data": {
            "image/png": "[encoded data removed]",
            "text/plain": [
              "<Figure size 432x288 with 1 Axes>"
            ]
          },
          "metadata": {
            "tags": [],
            "needs_background": "light"
          }
        }
      ]
    },
    {
      "cell_type": "code",
      "metadata": {
        "colab": {
          "base_uri": "https://localhost:8080/",
          "height": 295
        },
        "id": "q6U3KhAsdUdt",
        "outputId": "05ecfb43-628c-4399-c7f8-152d078ce867"
      },
      "source": [
        "#visualisasi hasil Training Set\n",
        "%matplotlib inline\n",
        "from matplotlib import pyplot as plt\n",
        "plt.scatter(x_train[:,0], y_train, color = 'red')\n",
        "plt.plot(x_train, regressor.predict(x_train), color = 'blue' )\n",
        "plt.title('Harga Penutup Berdasarkan Harga Tertinggi')\n",
        "plt.xlabel('Harga Tertinggi')\n",
        "plt.ylabel('Harga Penutup')\n",
        "plt.show()"
      ],
      "execution_count": 33,
      "outputs": [
        {
          "output_type": "display_data",
          "data": {
            "image/png": "[encoded data removed]",
            "text/plain": [
              "<Figure size 432x288 with 1 Axes>"
            ]
          },
          "metadata": {
            "tags": [],
            "needs_background": "light"
          }
        }
      ]
    }
  ]
}
