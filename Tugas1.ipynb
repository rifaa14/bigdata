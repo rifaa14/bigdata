{
  "nbformat": 4,
  "nbformat_minor": 0,
  "metadata": {
    "colab": {
      "name": "Untitled0.ipynb",
      "provenance": [],
      "authorship_tag": "ABX9TyMNa+HS4Om7uCYChcyoDM/6",
      "include_colab_link": true
    },
    "kernelspec": {
      "name": "python3",
      "display_name": "Python 3"
    },
    "language_info": {
      "name": "python"
    }
  },
  "cells": [
    {
      "cell_type": "markdown",
      "metadata": {
        "id": "view-in-github",
        "colab_type": "text"
      },
      "source": [
        "<a href=\"https://colab.research.google.com/github/rifaa14/bigdata/blob/main/Tugas1.ipynb\" target=\"_parent\"><img src=\"https://colab.research.google.com/assets/colab-badge.svg\" alt=\"Open In Colab\"/></a>"
      ]
    },
    {
      "cell_type": "markdown",
      "metadata": {
        "id": "0OkjzZd2sWDX"
      },
      "source": [
        "# IPhyton Magic Commands"
      ]
    },
    {
      "cell_type": "markdown",
      "metadata": {
        "id": "0-hRlk-glcpQ"
      },
      "source": [
        "IPhyton Magic Commands dirancang secara ringkas untuk memecahkan berbagai masalah umum dalam analisis data. Magic Command terdapat dalam dua bentuk: line magic yang dilambangkan dengan satu % prefiks dan beroperasi pada satu baris masukan, dan cell magic yang dilambangkan dengan double %% dan beroperasi pada beberapa baris masukan.\n",
        "\n"
      ]
    },
    {
      "cell_type": "markdown",
      "metadata": {
        "id": "tQoEe3t2u7S7"
      },
      "source": [
        "## 1. Pasting Code Blocks: %paste dan %cpaste."
      ]
    },
    {
      "cell_type": "markdown",
      "metadata": {
        "id": "zmUJGaHUFYKu"
      },
      "source": [
        " Command ini digunakan untuk membantu dalam menempelkan blok kode multiline."
      ]
    },
    {
      "cell_type": "code",
      "metadata": {
        "id": "Pf7_mBIb4a7L"
      },
      "source": [
        ">>> def donothing(x):\n",
        "...  return x"
      ],
      "execution_count": 4,
      "outputs": []
    },
    {
      "cell_type": "code",
      "metadata": {
        "colab": {
          "base_uri": "https://localhost:8080/",
          "height": 129
        },
        "id": "9LyoQ_0oqG1K",
        "outputId": "211bdb3d-bcfd-4ee1-ada6-f5e426343664"
      },
      "source": [
        "%paste\n",
        ">>> def donothing(x):\n",
        "... return x"
      ],
      "execution_count": 5,
      "outputs": [
        {
          "output_type": "error",
          "ename": "SyntaxError",
          "evalue": "ignored",
          "traceback": [
            "\u001b[0;36m  File \u001b[0;32m\"<ipython-input-5-803beac6bc6d>\"\u001b[0;36m, line \u001b[0;32m2\u001b[0m\n\u001b[0;31m    >>> def donothing(x):\u001b[0m\n\u001b[0m     ^\u001b[0m\n\u001b[0;31mSyntaxError\u001b[0m\u001b[0;31m:\u001b[0m invalid syntax\n"
          ]
        }
      ]
    },
    {
      "cell_type": "code",
      "metadata": {
        "colab": {
          "base_uri": "https://localhost:8080/"
        },
        "id": "bYoxQ2oXqnWK",
        "outputId": "9e43acfa-c9c3-4a29-ceac-5919d9ebe811"
      },
      "source": [
        "donothing(10)"
      ],
      "execution_count": 6,
      "outputs": [
        {
          "output_type": "execute_result",
          "data": {
            "text/plain": [
              "10"
            ]
          },
          "metadata": {
            "tags": []
          },
          "execution_count": 6
        }
      ]
    },
    {
      "cell_type": "code",
      "metadata": {
        "colab": {
          "base_uri": "https://localhost:8080/",
          "height": 129
        },
        "id": "AeWH9Gm4qz3M",
        "outputId": "44372eed-b5cd-4127-acbd-3cf1220ca3ff"
      },
      "source": [
        "%cpaste\n",
        ">>> def donothing(x):\n",
        "... return x"
      ],
      "execution_count": 7,
      "outputs": [
        {
          "output_type": "error",
          "ename": "SyntaxError",
          "evalue": "ignored",
          "traceback": [
            "\u001b[0;36m  File \u001b[0;32m\"<ipython-input-7-40468bdb1ffd>\"\u001b[0;36m, line \u001b[0;32m2\u001b[0m\n\u001b[0;31m    >>> def donothing(x):\u001b[0m\n\u001b[0m     ^\u001b[0m\n\u001b[0;31mSyntaxError\u001b[0m\u001b[0;31m:\u001b[0m invalid syntax\n"
          ]
        }
      ]
    },
    {
      "cell_type": "markdown",
      "metadata": {
        "id": "EoNwMKAesfrU"
      },
      "source": [
        "## 2. Running External Code: %run\n",
        "Command ini digunakan untuk membuka atau menggunakan kode yang telah kita buat sebelumnya tanpa membuka atau menjalankannya di jendela baru"
      ]
    },
    {
      "cell_type": "markdown",
      "metadata": {
        "id": "SlczuI-Ptt6T"
      },
      "source": [
        "Sebagai contoh, kita buat file myscript.py  terlebih dulu"
      ]
    },
    {
      "cell_type": "code",
      "metadata": {
        "colab": {
          "base_uri": "https://localhost:8080/"
        },
        "id": "HieNKe9wtrHI",
        "outputId": "75def5c0-c3ea-4778-d55b-f24a3ba3a0bf"
      },
      "source": [
        "#-------------------------------------\n",
        "# file: myscript.py\n",
        "%%writefile myscript.py\n",
        "def square(x):\n",
        "  return x ** 2\n",
        "for N in range(1, 4):\n",
        "  print(N, \"squared is\", square(N))"
      ],
      "execution_count": 11,
      "outputs": [
        {
          "output_type": "stream",
          "text": [
            "Writing myscript.py\n"
          ],
          "name": "stdout"
        }
      ]
    },
    {
      "cell_type": "markdown",
      "metadata": {
        "id": "u2GAf32Eunme"
      },
      "source": [
        "Lalu jalankan file myscript menggunakan %run"
      ]
    },
    {
      "cell_type": "code",
      "metadata": {
        "colab": {
          "base_uri": "https://localhost:8080/"
        },
        "id": "H83_vZYXuFPp",
        "outputId": "63866c8e-cd6b-4d29-fe31-001e989cddba"
      },
      "source": [
        "%run myscript.py"
      ],
      "execution_count": 12,
      "outputs": [
        {
          "output_type": "stream",
          "text": [
            "1 squared is 1\n",
            "2 squared is 4\n",
            "3 squared is 9\n"
          ],
          "name": "stdout"
        }
      ]
    },
    {
      "cell_type": "code",
      "metadata": {
        "colab": {
          "base_uri": "https://localhost:8080/"
        },
        "id": "j4O7bc3Rusnn",
        "outputId": "b3d1dd9c-e50d-4298-e90f-481a0d041d1f"
      },
      "source": [
        "square(5)"
      ],
      "execution_count": 13,
      "outputs": [
        {
          "output_type": "execute_result",
          "data": {
            "text/plain": [
              "25"
            ]
          },
          "metadata": {
            "tags": []
          },
          "execution_count": 13
        }
      ]
    },
    {
      "cell_type": "markdown",
      "metadata": {
        "id": "MJ9naUmAvRSu"
      },
      "source": [
        "## 3. Timing Code Execution: %timeit. "
      ]
    },
    {
      "cell_type": "markdown",
      "metadata": {
        "id": "_WuXyXR8Fo2Y"
      },
      "source": [
        "Digunakan untuk menentukan waktu eksekusi single-line Python statement secara otomatis."
      ]
    },
    {
      "cell_type": "code",
      "metadata": {
        "colab": {
          "base_uri": "https://localhost:8080/"
        },
        "id": "jZR_8WNJvswW",
        "outputId": "aa01b03e-6154-49b5-9dc7-477725164c04"
      },
      "source": [
        "In [8]: %timeit L = [n ** 2 for n in range(1000)]"
      ],
      "execution_count": 14,
      "outputs": [
        {
          "output_type": "stream",
          "text": [
            "1000 loops, best of 5: 260 µs per loop\n"
          ],
          "name": "stdout"
        }
      ]
    },
    {
      "cell_type": "markdown",
      "metadata": {
        "id": "yyR28SOYwBsH"
      },
      "source": [
        "Manfaat dari %timeit adalah kita dapat membandingkan kecepatan waktu eksekusi dari sebuah kode. Contohnya pada list comprehension di atas yang akan dibandingkan dengan for loop berikut"
      ]
    },
    {
      "cell_type": "code",
      "metadata": {
        "colab": {
          "base_uri": "https://localhost:8080/"
        },
        "id": "FYehUbZqwxso",
        "outputId": "2b1316c9-40b6-4ef4-f89a-67504135d622"
      },
      "source": [
        "%%timeit\n",
        "...: L = []\n",
        "...: for n in range(1000):\n",
        "...:  L.append(n ** 2)\n",
        "...:"
      ],
      "execution_count": 18,
      "outputs": [
        {
          "output_type": "stream",
          "text": [
            "1000 loops, best of 5: 302 µs per loop\n"
          ],
          "name": "stdout"
        }
      ]
    },
    {
      "cell_type": "markdown",
      "metadata": {
        "id": "cldNiar7xDnV"
      },
      "source": [
        "Kita dapat melihat bahwa list comprehension lebih cepat dibandingkan dengan for loop"
      ]
    },
    {
      "cell_type": "markdown",
      "metadata": {
        "id": "fZfQ0I9UxTl2"
      },
      "source": [
        "## 4. Help on Magic Functions: ?, %magic, and %lsmagic."
      ]
    },
    {
      "cell_type": "markdown",
      "metadata": {
        "id": "2_XXcPtLFvRr"
      },
      "source": [
        "Digunakan untuk melihat dokumentasi dari magic functions IPython."
      ]
    },
    {
      "cell_type": "markdown",
      "metadata": {
        "id": "SeYWJVq-ygqu"
      },
      "source": [
        " Misalnya, untuk membaca dokumentasi dari %timeit dapat dilakukan dengan;"
      ]
    },
    {
      "cell_type": "code",
      "metadata": {
        "id": "eeCE0CKnyoC_"
      },
      "source": [
        "%timeit?"
      ],
      "execution_count": 19,
      "outputs": []
    },
    {
      "cell_type": "markdown",
      "metadata": {
        "id": "9gm2lZzIywqY"
      },
      "source": [
        "Dokumentasi untuk fungsi lain dapat diakses dengan cara yang sama. Untuk mengakses deskripsi fungsi magic yang tersedia beserta contohnya, dapat dilakukan dengan;"
      ]
    },
    {
      "cell_type": "code",
      "metadata": {
        "id": "CNtimqXEy-gA"
      },
      "source": [
        "%magic"
      ],
      "execution_count": 20,
      "outputs": []
    },
    {
      "cell_type": "markdown",
      "metadata": {
        "id": "fW-yZLQNzGFo"
      },
      "source": [
        "Untuk daftar cepat dan sederhana dari semua fungsi magic yang tersedia, dapat dilakukan dengan;"
      ]
    },
    {
      "cell_type": "code",
      "metadata": {
        "colab": {
          "base_uri": "https://localhost:8080/",
          "height": 156
        },
        "id": "xSuBopFyzQas",
        "outputId": "6c8baecd-89fc-401b-fb1f-e44564334834"
      },
      "source": [
        "%lsmagic "
      ],
      "execution_count": 21,
      "outputs": [
        {
          "output_type": "execute_result",
          "data": {
            "application/json": {
              "cell": {
                "prun": "ExecutionMagics",
                "file": "Other",
                "!": "OSMagics",
                "capture": "ExecutionMagics",
                "timeit": "ExecutionMagics",
                "script": "ScriptMagics",
                "pypy": "Other",
                "system": "OSMagics",
                "perl": "Other",
                "html": "DisplayMagics",
                "bash": "Other",
                "shell": "Other",
                "HTML": "Other",
                "python": "Other",
                "SVG": "Other",
                "javascript": "DisplayMagics",
                "bigquery": "Other",
                "js": "DisplayMagics",
                "writefile": "OSMagics",
                "ruby": "Other",
                "python3": "Other",
                "python2": "Other",
                "latex": "DisplayMagics",
                "sx": "OSMagics",
                "svg": "DisplayMagics",
                "sh": "Other",
                "time": "ExecutionMagics",
                "debug": "ExecutionMagics"
              },
              "line": {
                "psource": "NamespaceMagics",
                "logstart": "LoggingMagics",
                "popd": "OSMagics",
                "tensorflow_version": "Other",
                "loadpy": "CodeMagics",
                "colors": "BasicMagics",
                "who_ls": "NamespaceMagics",
                "lf": "Other",
                "ll": "Other",
                "pprint": "BasicMagics",
                "lk": "Other",
                "ls": "Other",
                "save": "CodeMagics",
                "tb": "ExecutionMagics",
                "lx": "Other",
                "pylab": "PylabMagics",
                "killbgscripts": "ScriptMagics",
                "quickref": "BasicMagics",
                "magic": "BasicMagics",
                "dhist": "OSMagics",
                "edit": "KernelMagics",
                "logstop": "LoggingMagics",
                "gui": "BasicMagics",
                "prun": "ExecutionMagics",
                "debug": "ExecutionMagics",
                "page": "BasicMagics",
                "logstate": "LoggingMagics",
                "ed": "Other",
                "pushd": "OSMagics",
                "timeit": "ExecutionMagics",
                "set_env": "OSMagics",
                "rehashx": "OSMagics",
                "hist": "Other",
                "qtconsole": "KernelMagics",
                "rm": "Other",
                "dirs": "OSMagics",
                "run": "ExecutionMagics",
                "reset_selective": "NamespaceMagics",
                "pinfo2": "NamespaceMagics",
                "matplotlib": "PylabMagics",
                "unload_ext": "ExtensionMagics",
                "doctest_mode": "BasicMagics",
                "logoff": "LoggingMagics",
                "reload_ext": "ExtensionMagics",
                "pdb": "ExecutionMagics",
                "load": "CodeMagics",
                "lsmagic": "BasicMagics",
                "autosave": "KernelMagics",
                "cd": "OSMagics",
                "pastebin": "CodeMagics",
                "alias_magic": "BasicMagics",
                "cp": "Other",
                "autocall": "AutoMagics",
                "ldir": "Other",
                "bookmark": "OSMagics",
                "connect_info": "KernelMagics",
                "mkdir": "Other",
                "system": "OSMagics",
                "whos": "NamespaceMagics",
                "rmdir": "Other",
                "automagic": "AutoMagics",
                "store": "StoreMagics",
                "more": "KernelMagics",
                "shell": "Other",
                "pdef": "NamespaceMagics",
                "precision": "BasicMagics",
                "pinfo": "NamespaceMagics",
                "pwd": "OSMagics",
                "psearch": "NamespaceMagics",
                "reset": "NamespaceMagics",
                "recall": "HistoryMagics",
                "xdel": "NamespaceMagics",
                "xmode": "BasicMagics",
                "cat": "Other",
                "mv": "Other",
                "rerun": "HistoryMagics",
                "logon": "LoggingMagics",
                "history": "HistoryMagics",
                "pycat": "OSMagics",
                "pip": "Other",
                "unalias": "OSMagics",
                "env": "OSMagics",
                "load_ext": "ExtensionMagics",
                "config": "ConfigMagics",
                "profile": "BasicMagics",
                "pfile": "NamespaceMagics",
                "less": "KernelMagics",
                "who": "NamespaceMagics",
                "notebook": "BasicMagics",
                "man": "KernelMagics",
                "sx": "OSMagics",
                "macro": "ExecutionMagics",
                "clear": "KernelMagics",
                "alias": "OSMagics",
                "time": "ExecutionMagics",
                "sc": "OSMagics",
                "rep": "Other",
                "pdoc": "NamespaceMagics"
              }
            },
            "text/plain": [
              "Available line magics:\n",
              "%alias  %alias_magic  %autocall  %automagic  %autosave  %bookmark  %cat  %cd  %clear  %colors  %config  %connect_info  %cp  %debug  %dhist  %dirs  %doctest_mode  %ed  %edit  %env  %gui  %hist  %history  %killbgscripts  %ldir  %less  %lf  %lk  %ll  %load  %load_ext  %loadpy  %logoff  %logon  %logstart  %logstate  %logstop  %ls  %lsmagic  %lx  %macro  %magic  %man  %matplotlib  %mkdir  %more  %mv  %notebook  %page  %pastebin  %pdb  %pdef  %pdoc  %pfile  %pinfo  %pinfo2  %pip  %popd  %pprint  %precision  %profile  %prun  %psearch  %psource  %pushd  %pwd  %pycat  %pylab  %qtconsole  %quickref  %recall  %rehashx  %reload_ext  %rep  %rerun  %reset  %reset_selective  %rm  %rmdir  %run  %save  %sc  %set_env  %shell  %store  %sx  %system  %tb  %tensorflow_version  %time  %timeit  %unalias  %unload_ext  %who  %who_ls  %whos  %xdel  %xmode\n",
              "\n",
              "Available cell magics:\n",
              "%%!  %%HTML  %%SVG  %%bash  %%bigquery  %%capture  %%debug  %%file  %%html  %%javascript  %%js  %%latex  %%perl  %%prun  %%pypy  %%python  %%python2  %%python3  %%ruby  %%script  %%sh  %%shell  %%svg  %%sx  %%system  %%time  %%timeit  %%writefile\n",
              "\n",
              "Automagic is ON, % prefix IS NOT needed for line magics."
            ]
          },
          "metadata": {
            "tags": []
          },
          "execution_count": 21
        }
      ]
    },
    {
      "cell_type": "markdown",
      "metadata": {
        "id": "gdmRxh2Czcxg"
      },
      "source": [
        "# Input and Output History"
      ]
    },
    {
      "cell_type": "markdown",
      "metadata": {
        "id": "0ZER88hTzf6N"
      },
      "source": [
        "## 1. IPython's In and Out Objects."
      ]
    },
    {
      "cell_type": "markdown",
      "metadata": {
        "id": "s1MAgDUO2x4s"
      },
      "source": [
        "style In[1]:/Out[1]: yang ada pada IPython bukan hanya dekorasi, tetapi melainkan memberi petunjuk tentang bagaimana kita dapat mengakses input dan output yang sebelumnya"
      ]
    },
    {
      "cell_type": "code",
      "metadata": {
        "id": "UdrajeJe05ip"
      },
      "source": [
        "import math"
      ],
      "execution_count": 22,
      "outputs": []
    },
    {
      "cell_type": "code",
      "metadata": {
        "colab": {
          "base_uri": "https://localhost:8080/"
        },
        "id": "yHbdmmh308-G",
        "outputId": "cd31d3cf-2656-48ae-ade1-b5977c071d35"
      },
      "source": [
        "math.sin(2)"
      ],
      "execution_count": 23,
      "outputs": [
        {
          "output_type": "execute_result",
          "data": {
            "text/plain": [
              "0.9092974268256817"
            ]
          },
          "metadata": {
            "tags": []
          },
          "execution_count": 23
        }
      ]
    },
    {
      "cell_type": "code",
      "metadata": {
        "colab": {
          "base_uri": "https://localhost:8080/"
        },
        "id": "zSnvYWSD0_JP",
        "outputId": "d8e11338-84dd-43c0-b05a-eb29faa3f205"
      },
      "source": [
        "math.cos(2)"
      ],
      "execution_count": 24,
      "outputs": [
        {
          "output_type": "execute_result",
          "data": {
            "text/plain": [
              "-0.4161468365471424"
            ]
          },
          "metadata": {
            "tags": []
          },
          "execution_count": 24
        }
      ]
    },
    {
      "cell_type": "markdown",
      "metadata": {
        "id": "feGRF3IZ1BSb"
      },
      "source": [
        "Setelah mengimport paket math, dan menghitung sinus dan cosinus. Input dan output tersebut tidak hanya ditampilkan di shell dengan label In/Out, tetapi juga IPython sebenarnya membuat beberapa variabel Python yang disebut In dan Out yang secara otomatis diperbarui dalam history."
      ]
    },
    {
      "cell_type": "code",
      "metadata": {
        "colab": {
          "base_uri": "https://localhost:8080/"
        },
        "id": "t8AokEzC13A8",
        "outputId": "9ad7dc10-b60f-402e-c31b-ea43d0acf4ba"
      },
      "source": [
        "print(In)"
      ],
      "execution_count": 25,
      "outputs": [
        {
          "output_type": "stream",
          "text": [
            "['', 'def donothing(x):\\n  return x', 'def donothing(x):\\n  return x', 'def donotghing(x):\\n  return x', 'def donothing(x):\\n return x', \"get_ipython().magic('paste')\\n>>> def donothing(x):\\n... return x\", 'donothing(10)', \"get_ipython().magic('cpaste')\\n>>> def donothing(x):\\n... return x\", '#-------------------------------------\\n# file: myscript.py\\ndef square(x):\\n\"\"\"square a number\"\"\"\\nreturn x ** 2\\nfor N in range(1, 4):\\nprint(N, \"squared is\", square(N))', '#-------------------------------------\\n# file: myscript.py\\ndef square(x):\\n  return x ** 2\\nfor N in range(1, 4):\\n  print(N, \"squared is\", square(N))', \"get_ipython().magic('run myscript.py')\", 'get_ipython().run_cell_magic(\\'writefile\\', \\'myscript.py\\', \\'def square(x):\\\\n  return x ** 2\\\\nfor N in range(1, 4):\\\\n  print(N, \"squared is\", square(N))\\')', \"get_ipython().magic('run myscript.py')\", 'square(5)', \"get_ipython().magic('timeit L = [n ** 2 for n in range(1000)]')\", \"get_ipython().run_cell_magic('timeit', '', 'L = []\\\\nfor n in range(1000):\\\\nL.append(n ** 2)')\", \"get_ipython().run_cell_magic('timeit', '', 'L = []\\\\nfor n in range(1000):\\\\nL.append(n ** 2)\\\\n')\", \"get_ipython().run_cell_magic('timeit', '', '...: L = []\\\\n...: for n in range(1000):\\\\n...: L.append(n ** 2)\\\\n...:')\", \"get_ipython().run_cell_magic('timeit', '', '...: L = []\\\\n...: for n in range(1000):\\\\n...:  L.append(n ** 2)\\\\n...:')\", \"get_ipython().magic('pinfo %timeit')\", \"get_ipython().magic('magic')\", \"get_ipython().magic('lsmagic')\", 'import math', 'math.sin(2)', 'math.cos(2)', 'print(In)']\n"
          ],
          "name": "stdout"
        }
      ]
    },
    {
      "cell_type": "code",
      "metadata": {
        "colab": {
          "base_uri": "https://localhost:8080/"
        },
        "id": "qb4FC1DA2Qbm",
        "outputId": "3aea9222-df69-4787-f5ab-745671153389"
      },
      "source": [
        "Out"
      ],
      "execution_count": 26,
      "outputs": [
        {
          "output_type": "execute_result",
          "data": {
            "text/plain": [
              "{6: 10,\n",
              " 13: 25,\n",
              " 21: Available line magics:\n",
              "%alias  %alias_magic  %autocall  %automagic  %autosave  %bookmark  %cat  %cd  %clear  %colors  %config  %connect_info  %cp  %debug  %dhist  %dirs  %doctest_mode  %ed  %edit  %env  %gui  %hist  %history  %killbgscripts  %ldir  %less  %lf  %lk  %ll  %load  %load_ext  %loadpy  %logoff  %logon  %logstart  %logstate  %logstop  %ls  %lsmagic  %lx  %macro  %magic  %man  %matplotlib  %mkdir  %more  %mv  %notebook  %page  %pastebin  %pdb  %pdef  %pdoc  %pfile  %pinfo  %pinfo2  %pip  %popd  %pprint  %precision  %profile  %prun  %psearch  %psource  %pushd  %pwd  %pycat  %pylab  %qtconsole  %quickref  %recall  %rehashx  %reload_ext  %rep  %rerun  %reset  %reset_selective  %rm  %rmdir  %run  %save  %sc  %set_env  %shell  %store  %sx  %system  %tb  %tensorflow_version  %time  %timeit  %unalias  %unload_ext  %who  %who_ls  %whos  %xdel  %xmode\n",
              "\n",
              "Available cell magics:\n",
              "%%!  %%HTML  %%SVG  %%bash  %%bigquery  %%capture  %%debug  %%file  %%html  %%javascript  %%js  %%latex  %%perl  %%prun  %%pypy  %%python  %%python2  %%python3  %%ruby  %%script  %%sh  %%shell  %%svg  %%sx  %%system  %%time  %%timeit  %%writefile\n",
              "\n",
              "Automagic is ON, % prefix IS NOT needed for line magics.,\n",
              " 23: 0.9092974268256817,\n",
              " 24: -0.4161468365471424}"
            ]
          },
          "metadata": {
            "tags": []
          },
          "execution_count": 26
        }
      ]
    },
    {
      "cell_type": "markdown",
      "metadata": {
        "id": "63tjwWwp3o6o"
      },
      "source": [
        "Objek In digambarkan dengan sebuah list"
      ]
    },
    {
      "cell_type": "code",
      "metadata": {
        "colab": {
          "base_uri": "https://localhost:8080/"
        },
        "id": "4w8HIy5t3yyW",
        "outputId": "d91b5711-f233-490e-ecd2-948713eda784"
      },
      "source": [
        "print(In[22])"
      ],
      "execution_count": 27,
      "outputs": [
        {
          "output_type": "stream",
          "text": [
            "import math\n"
          ],
          "name": "stdout"
        }
      ]
    },
    {
      "cell_type": "markdown",
      "metadata": {
        "id": "srJEVUHp36jD"
      },
      "source": [
        "Objek Out digambarkan dengan array"
      ]
    },
    {
      "cell_type": "code",
      "metadata": {
        "colab": {
          "base_uri": "https://localhost:8080/"
        },
        "id": "wMcliZqp4GMl",
        "outputId": "bf50d388-15a9-498a-bbe0-b0b7b0f41c04"
      },
      "source": [
        "print(Out[23])"
      ],
      "execution_count": 28,
      "outputs": [
        {
          "output_type": "stream",
          "text": [
            "0.9092974268256817\n"
          ],
          "name": "stdout"
        }
      ]
    },
    {
      "cell_type": "markdown",
      "metadata": {
        "id": "-CMlRDpt4Ste"
      },
      "source": [
        "Fungsi ini dapat digunakan jika kita ingin berinteraksi atau menggunakan perintah sebelumnya"
      ]
    },
    {
      "cell_type": "code",
      "metadata": {
        "colab": {
          "base_uri": "https://localhost:8080/"
        },
        "id": "Iwf8-Get4qg1",
        "outputId": "0cb8757a-ae55-4fd7-e7bf-a887ad1c80fe"
      },
      "source": [
        "Out[23] ** 2 + Out[24] ** 2"
      ],
      "execution_count": 29,
      "outputs": [
        {
          "output_type": "execute_result",
          "data": {
            "text/plain": [
              "1.0"
            ]
          },
          "metadata": {
            "tags": []
          },
          "execution_count": 29
        }
      ]
    },
    {
      "cell_type": "markdown",
      "metadata": {
        "id": "ynd2Qbca4568"
      },
      "source": [
        "2. Underscore Shortcuts and Previous Outputs"
      ]
    },
    {
      "cell_type": "markdown",
      "metadata": {
        "id": "TMvNcOtE4-OG"
      },
      "source": [
        "Shell Python standar hanya memiliki satu pintasan untuk mengakses output sebelumnya yaitu dengan _"
      ]
    },
    {
      "cell_type": "code",
      "metadata": {
        "colab": {
          "base_uri": "https://localhost:8080/"
        },
        "id": "T6xB0NAy56bG",
        "outputId": "4294115e-96fd-4322-d0e3-a144a471310e"
      },
      "source": [
        "print(_)"
      ],
      "execution_count": 30,
      "outputs": [
        {
          "output_type": "stream",
          "text": [
            "1.0\n"
          ],
          "name": "stdout"
        }
      ]
    },
    {
      "cell_type": "markdown",
      "metadata": {
        "id": "Sf_aqndM59R9"
      },
      "source": [
        "Tetapi pada IPython kita dapat mengambil dua output sebelumnya dengan __ dan tiga output sebelumnya dengan ____"
      ]
    },
    {
      "cell_type": "code",
      "metadata": {
        "colab": {
          "base_uri": "https://localhost:8080/"
        },
        "id": "LpO3CKIH6PdZ",
        "outputId": "88ff52d0-ae44-4def-d327-7da9e02ca11d"
      },
      "source": [
        "print(__)"
      ],
      "execution_count": 31,
      "outputs": [
        {
          "output_type": "stream",
          "text": [
            "-0.4161468365471424\n"
          ],
          "name": "stdout"
        }
      ]
    },
    {
      "cell_type": "code",
      "metadata": {
        "colab": {
          "base_uri": "https://localhost:8080/"
        },
        "id": "GdVe06c46TJH",
        "outputId": "2b27cae9-69a0-4206-bbcc-ddd4abe5f1a9"
      },
      "source": [
        "print(___)"
      ],
      "execution_count": 32,
      "outputs": [
        {
          "output_type": "stream",
          "text": [
            "0.9092974268256817\n"
          ],
          "name": "stdout"
        }
      ]
    },
    {
      "cell_type": "markdown",
      "metadata": {
        "id": "rAIIs7VH6WLS"
      },
      "source": [
        "Tidak hanya itu, untuk yang lebih dari tiga dapat digunakan dengan Out[X] atau _X dimana X adalah nomor baris yang ingin kita akses"
      ]
    },
    {
      "cell_type": "code",
      "metadata": {
        "colab": {
          "base_uri": "https://localhost:8080/"
        },
        "id": "Rk2OmAyv6x4k",
        "outputId": "0cec1610-ff70-4fc4-9053-f33ba5f58e18"
      },
      "source": [
        "Out[23]"
      ],
      "execution_count": 34,
      "outputs": [
        {
          "output_type": "execute_result",
          "data": {
            "text/plain": [
              "0.9092974268256817"
            ]
          },
          "metadata": {
            "tags": []
          },
          "execution_count": 34
        }
      ]
    },
    {
      "cell_type": "code",
      "metadata": {
        "colab": {
          "base_uri": "https://localhost:8080/"
        },
        "id": "SwNZlGAy7Oct",
        "outputId": "6b243056-4acd-426e-9f6e-03e358567948"
      },
      "source": [
        "_23"
      ],
      "execution_count": 35,
      "outputs": [
        {
          "output_type": "execute_result",
          "data": {
            "text/plain": [
              "0.9092974268256817"
            ]
          },
          "metadata": {
            "tags": []
          },
          "execution_count": 35
        }
      ]
    },
    {
      "cell_type": "markdown",
      "metadata": {
        "id": "QEOKmS2h7Qrb"
      },
      "source": [
        "## 2. Suppressing Output"
      ]
    },
    {
      "cell_type": "markdown",
      "metadata": {
        "id": "hQZMUAlF7ih0"
      },
      "source": [
        "Jika kita ingin menjalan perintah yang memberikan hasil yang tidak ingin kita simpan dalam riwayat output dapat dilakukan dengan menambahkan titik koma di akhir baris"
      ]
    },
    {
      "cell_type": "code",
      "metadata": {
        "id": "EUYvpV3e70uA"
      },
      "source": [
        "math.sin(2) + math.cos(2);"
      ],
      "execution_count": 37,
      "outputs": []
    },
    {
      "cell_type": "markdown",
      "metadata": {
        "id": "pSWBKjnG8JGa"
      },
      "source": [
        "Terlihat bahwa hasilnya dihitung secara diam-diam dan hasilnya tidak ditampilkan dilayar atau disimpan dalam Out dictionary"
      ]
    },
    {
      "cell_type": "code",
      "metadata": {
        "colab": {
          "base_uri": "https://localhost:8080/"
        },
        "id": "fUjrMjS58Vac",
        "outputId": "e289383e-f7dc-4de6-fc07-aba648e881b0"
      },
      "source": [
        "37 in Out"
      ],
      "execution_count": 38,
      "outputs": [
        {
          "output_type": "execute_result",
          "data": {
            "text/plain": [
              "False"
            ]
          },
          "metadata": {
            "tags": []
          },
          "execution_count": 38
        }
      ]
    },
    {
      "cell_type": "markdown",
      "metadata": {
        "id": "nXIxG7pI8Z9V"
      },
      "source": [
        "## 3. Related Magic Commands"
      ]
    },
    {
      "cell_type": "markdown",
      "metadata": {
        "id": "ejMTp0P48sTm"
      },
      "source": [
        "Untuk mengakses sekumpulan input sebelumnya sekaligus, magic functions %history dapat sangat membantu"
      ]
    },
    {
      "cell_type": "code",
      "metadata": {
        "colab": {
          "base_uri": "https://localhost:8080/"
        },
        "id": "E0nJ2KBX9G9C",
        "outputId": "2a6a219f-738c-4499-faf3-f25ebd3fc1ee"
      },
      "source": [
        "%history -n 22-25"
      ],
      "execution_count": 39,
      "outputs": [
        {
          "output_type": "stream",
          "text": [
            "  22: import math\n",
            "  23: math.sin(2)\n",
            "  24: math.cos(2)\n",
            "  25: print(In)\n"
          ],
          "name": "stdout"
        }
      ]
    },
    {
      "cell_type": "markdown",
      "metadata": {
        "id": "TEmQCKLl9j4b"
      },
      "source": [
        "# IPython and Shell Commands"
      ]
    },
    {
      "cell_type": "markdown",
      "metadata": {
        "id": "N353pigb9mFK"
      },
      "source": [
        "## 1. Shell Commands in IPython"
      ]
    },
    {
      "cell_type": "markdown",
      "metadata": {
        "id": "E7mjJCZk-Wpn"
      },
      "source": [
        "Kita dapat menggunakan berbagai command line di IPython dengan menggunakan karakter ! diawalnya"
      ]
    },
    {
      "cell_type": "code",
      "metadata": {
        "colab": {
          "base_uri": "https://localhost:8080/"
        },
        "id": "GBioEZ7q-2iz",
        "outputId": "f5115dc7-c867-4433-8439-da425a047b21"
      },
      "source": [
        "!ls"
      ],
      "execution_count": 40,
      "outputs": [
        {
          "output_type": "stream",
          "text": [
            "myscript.py  sample_data\n"
          ],
          "name": "stdout"
        }
      ]
    },
    {
      "cell_type": "code",
      "metadata": {
        "colab": {
          "base_uri": "https://localhost:8080/"
        },
        "id": "s2pT2m5U-5tr",
        "outputId": "4249793a-9baf-4950-e9d6-c57115858c01"
      },
      "source": [
        "!pwd"
      ],
      "execution_count": 41,
      "outputs": [
        {
          "output_type": "stream",
          "text": [
            "/content\n"
          ],
          "name": "stdout"
        }
      ]
    },
    {
      "cell_type": "code",
      "metadata": {
        "colab": {
          "base_uri": "https://localhost:8080/"
        },
        "id": "SyNvH_nJ-8BZ",
        "outputId": "ac86cab4-73fa-4a3f-9eb7-b7ffe25fd941"
      },
      "source": [
        "!echo \"printing from the shell\""
      ],
      "execution_count": 42,
      "outputs": [
        {
          "output_type": "stream",
          "text": [
            "printing from the shell\n"
          ],
          "name": "stdout"
        }
      ]
    },
    {
      "cell_type": "markdown",
      "metadata": {
        "id": "lGafikJf_Ati"
      },
      "source": [
        "## 2. Passing Values to and from the Shell"
      ]
    },
    {
      "cell_type": "markdown",
      "metadata": {
        "id": "y1pguyZs_Mpb"
      },
      "source": [
        "Perintah shell tidak hanya dapat dipanggil dari IPython, tetapi juga dapat dibuat untuk berinteraksi\n",
        "dengan namespace IPython. Misalnya, kita dapat menyimpan keluaran dari command shell apa pun ke daftar Python menggunakan operator penugasan"
      ]
    },
    {
      "cell_type": "code",
      "metadata": {
        "id": "twCz9UDf_ZEB"
      },
      "source": [
        "contents = !ls"
      ],
      "execution_count": 43,
      "outputs": []
    },
    {
      "cell_type": "code",
      "metadata": {
        "colab": {
          "base_uri": "https://localhost:8080/"
        },
        "id": "hsxOvrWb_b1R",
        "outputId": "9e41e583-350b-4cc1-9264-f728038a47c6"
      },
      "source": [
        "print(contents)"
      ],
      "execution_count": 44,
      "outputs": [
        {
          "output_type": "stream",
          "text": [
            "['myscript.py  sample_data']\n"
          ],
          "name": "stdout"
        }
      ]
    },
    {
      "cell_type": "code",
      "metadata": {
        "id": "omKGfy9t_ebi"
      },
      "source": [
        "directory = !pwd"
      ],
      "execution_count": 45,
      "outputs": []
    },
    {
      "cell_type": "code",
      "metadata": {
        "colab": {
          "base_uri": "https://localhost:8080/"
        },
        "id": "aGTqJzCo_heA",
        "outputId": "ee94ab5e-a289-4dc1-d63c-594b13f54d5a"
      },
      "source": [
        "print(directory)"
      ],
      "execution_count": 46,
      "outputs": [
        {
          "output_type": "stream",
          "text": [
            "['/content']\n"
          ],
          "name": "stdout"
        }
      ]
    },
    {
      "cell_type": "markdown",
      "metadata": {
        "id": "ViDJD04J_3-T"
      },
      "source": [
        "Perhatikan bahwa hasil tersebut tidak dikembalikan dalam bentuk list, tetapi sebagai tipe return shell yang khusus didefinisikan dalam IPython"
      ]
    },
    {
      "cell_type": "code",
      "metadata": {
        "colab": {
          "base_uri": "https://localhost:8080/"
        },
        "id": "RoAqHQeeAT5k",
        "outputId": "69ef124d-b9d9-412a-cf8b-102d9d9d3ff4"
      },
      "source": [
        "type(directory)"
      ],
      "execution_count": 49,
      "outputs": [
        {
          "output_type": "execute_result",
          "data": {
            "text/plain": [
              "IPython.utils.text.SList"
            ]
          },
          "metadata": {
            "tags": []
          },
          "execution_count": 49
        }
      ]
    },
    {
      "cell_type": "markdown",
      "metadata": {
        "id": "EwhUgKUKAb2i"
      },
      "source": [
        "Komunikasi ke arah lain atau meneruskan variabel Python ke dalam shell dapat dilakukan dengan syntax {varname}"
      ]
    },
    {
      "cell_type": "code",
      "metadata": {
        "id": "ID61oLr7AzyM"
      },
      "source": [
        "message = \"hello from Python\""
      ],
      "execution_count": 54,
      "outputs": []
    },
    {
      "cell_type": "code",
      "metadata": {
        "colab": {
          "base_uri": "https://localhost:8080/"
        },
        "id": "iQOVyvO9A3n_",
        "outputId": "903fecd7-2767-4c6d-80c2-edb07753af99"
      },
      "source": [
        "!echo {message}"
      ],
      "execution_count": 55,
      "outputs": [
        {
          "output_type": "stream",
          "text": [
            "hello from Python\n"
          ],
          "name": "stdout"
        }
      ]
    },
    {
      "cell_type": "markdown",
      "metadata": {
        "id": "kge5h7wbBPPy"
      },
      "source": [
        "# Shell-Related Magic Commands"
      ]
    },
    {
      "cell_type": "markdown",
      "metadata": {
        "id": "PdNUIYVaDQmE"
      },
      "source": [
        "Jika kita menggunakan IPython shell command dalam beberapa waktu, kita dapat menyadari bahwa tidak bisa menggunakan !cd untuk navigasi file sistem"
      ]
    },
    {
      "cell_type": "code",
      "metadata": {
        "colab": {
          "base_uri": "https://localhost:8080/"
        },
        "id": "2YiK0y_xDW4e",
        "outputId": "a0df4f40-7737-470c-c0ea-33eaa933f280"
      },
      "source": [
        "!pwd"
      ],
      "execution_count": 56,
      "outputs": [
        {
          "output_type": "stream",
          "text": [
            "/content\n"
          ],
          "name": "stdout"
        }
      ]
    },
    {
      "cell_type": "code",
      "metadata": {
        "id": "m3X7wIv-DY1v"
      },
      "source": [
        "!cd .."
      ],
      "execution_count": 57,
      "outputs": []
    },
    {
      "cell_type": "code",
      "metadata": {
        "colab": {
          "base_uri": "https://localhost:8080/"
        },
        "id": "FKg5aAxcDbMV",
        "outputId": "a8e3f064-0b65-4dec-e32b-fbb2773038a9"
      },
      "source": [
        "!pwd"
      ],
      "execution_count": 58,
      "outputs": [
        {
          "output_type": "stream",
          "text": [
            "/content\n"
          ],
          "name": "stdout"
        }
      ]
    },
    {
      "cell_type": "markdown",
      "metadata": {
        "id": "2yYaLufRDda5"
      },
      "source": [
        "Alasannya adalah karena shell command di notebook mengeksekusi dalam sub-shell sementara. Jika kita ingin mengubah direktori kita dapat menggunakan %magic command"
      ]
    },
    {
      "cell_type": "code",
      "metadata": {
        "colab": {
          "base_uri": "https://localhost:8080/"
        },
        "id": "s9ZeATrwDycK",
        "outputId": "efeb7040-b012-4eba-a50b-85974668a17b"
      },
      "source": [
        "%cd"
      ],
      "execution_count": 59,
      "outputs": [
        {
          "output_type": "stream",
          "text": [
            "/root\n"
          ],
          "name": "stdout"
        }
      ]
    },
    {
      "cell_type": "markdown",
      "metadata": {
        "id": "bo-L-n8xD1Jm"
      },
      "source": [
        "Faktanya, kita bahkan bisa menggunakannya tanpa %"
      ]
    },
    {
      "cell_type": "code",
      "metadata": {
        "colab": {
          "base_uri": "https://localhost:8080/"
        },
        "id": "-tHPv8BuD8oN",
        "outputId": "129c8928-4365-4485-febd-ad3cc8e544ef"
      },
      "source": [
        "cd /content"
      ],
      "execution_count": 61,
      "outputs": [
        {
          "output_type": "stream",
          "text": [
            "/content\n"
          ],
          "name": "stdout"
        }
      ]
    },
    {
      "cell_type": "markdown",
      "metadata": {
        "id": "5K3zTXqHBbr-"
      },
      "source": [
        "Ini dikenal dengan nama automagic functions. Dimana kita dapat menuliskan command tanpa menggunakan ! dan % seperti untuk fungsi cd,cat,cp,env,ls,man,mkdir,more,mv,pwd,rm, dan rmdir yang mana dapat kita gunakan langsung seolah-olah itu adalah shell biasa"
      ]
    },
    {
      "cell_type": "code",
      "metadata": {
        "id": "Iy34vq8VEc_J"
      },
      "source": [
        "mkdir tmp"
      ],
      "execution_count": 62,
      "outputs": []
    },
    {
      "cell_type": "code",
      "metadata": {
        "colab": {
          "base_uri": "https://localhost:8080/"
        },
        "id": "zaweaaTgEnl8",
        "outputId": "9741f874-f8d6-4e19-ecdf-8491d6c9e041"
      },
      "source": [
        "ls"
      ],
      "execution_count": 63,
      "outputs": [
        {
          "output_type": "stream",
          "text": [
            "myscript.py  \u001b[0m\u001b[01;34msample_data\u001b[0m/  \u001b[01;34mtmp\u001b[0m/\n"
          ],
          "name": "stdout"
        }
      ]
    },
    {
      "cell_type": "code",
      "metadata": {
        "id": "TqWsxlDREo9f"
      },
      "source": [
        "cp myscript.py tmp/"
      ],
      "execution_count": 67,
      "outputs": []
    },
    {
      "cell_type": "code",
      "metadata": {
        "colab": {
          "base_uri": "https://localhost:8080/"
        },
        "id": "Zkl1ME82E4Tp",
        "outputId": "6cccd479-2d14-4fc2-c41d-f4333d17fb33"
      },
      "source": [
        "ls tmp/"
      ],
      "execution_count": 69,
      "outputs": [
        {
          "output_type": "stream",
          "text": [
            "myscript.py\n"
          ],
          "name": "stdout"
        }
      ]
    },
    {
      "cell_type": "code",
      "metadata": {
        "id": "rSjizVpxE9uY"
      },
      "source": [
        "rm -r tmp/"
      ],
      "execution_count": 70,
      "outputs": []
    }
  ]
}