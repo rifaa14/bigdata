{
  "nbformat": 4,
  "nbformat_minor": 0,
  "metadata": {
    "colab": {
      "name": "Tugas2-BigData.ipynb",
      "provenance": [],
      "authorship_tag": "ABX9TyO/7CCaTqBw+Y0+AAYtK25h",
      "include_colab_link": true
    },
    "kernelspec": {
      "name": "python3",
      "display_name": "Python 3"
    },
    "language_info": {
      "name": "python"
    }
  },
  "cells": [
    {
      "cell_type": "markdown",
      "metadata": {
        "id": "view-in-github",
        "colab_type": "text"
      },
      "source": [
        "<a href=\"https://colab.research.google.com/github/rifaa14/bigdata/blob/main/Tugas2_BigData.ipynb\" target=\"_parent\"><img src=\"https://colab.research.google.com/assets/colab-badge.svg\" alt=\"Open In Colab\"/></a>"
      ]
    },
    {
      "cell_type": "code",
      "metadata": {
        "colab": {
          "base_uri": "https://localhost:8080/",
          "height": 35
        },
        "id": "xLN_V7_9qq_K",
        "outputId": "ab3efa7e-bc90-4c76-c982-a875e563637e"
      },
      "source": [
        "#import numpy\n",
        "import numpy\n",
        "#cek versi\n",
        "numpy.__version__"
      ],
      "execution_count": 1,
      "outputs": [
        {
          "output_type": "execute_result",
          "data": {
            "application/vnd.google.colaboratory.intrinsic+json": {
              "type": "string"
            },
            "text/plain": [
              "'1.19.5'"
            ]
          },
          "metadata": {
            "tags": []
          },
          "execution_count": 1
        }
      ]
    },
    {
      "cell_type": "code",
      "metadata": {
        "id": "V4wq9pIOq-5q"
      },
      "source": [
        "import numpy as np"
      ],
      "execution_count": 2,
      "outputs": []
    },
    {
      "cell_type": "code",
      "metadata": {
        "id": "nIyiGZ_MrLoy"
      },
      "source": [
        "#menampilkan semua konten namespace numpy\n",
        "#np.<TAB>"
      ],
      "execution_count": 3,
      "outputs": []
    },
    {
      "cell_type": "code",
      "metadata": {
        "id": "8G9Su_g4rVGI"
      },
      "source": [
        "#menampilkan dokumentasi bawaan numpy\n",
        "np?"
      ],
      "execution_count": 4,
      "outputs": []
    },
    {
      "cell_type": "markdown",
      "metadata": {
        "id": "H1DbF8pAydQd"
      },
      "source": [
        "### A Python List Is More Than Just A List"
      ]
    },
    {
      "cell_type": "code",
      "metadata": {
        "colab": {
          "base_uri": "https://localhost:8080/"
        },
        "id": "--9Ps8BlsK96",
        "outputId": "9bf98e28-c5bb-4701-a713-8b23c864a921"
      },
      "source": [
        "#python list\n",
        "#membuat list integer\n",
        "L = list(range(10))\n",
        "L"
      ],
      "execution_count": 5,
      "outputs": [
        {
          "output_type": "execute_result",
          "data": {
            "text/plain": [
              "[0, 1, 2, 3, 4, 5, 6, 7, 8, 9]"
            ]
          },
          "metadata": {
            "tags": []
          },
          "execution_count": 5
        }
      ]
    },
    {
      "cell_type": "code",
      "metadata": {
        "colab": {
          "base_uri": "https://localhost:8080/"
        },
        "id": "pTB9A3wosWic",
        "outputId": "88011223-7308-4575-e192-bb81d6b16782"
      },
      "source": [
        "type(L[0])"
      ],
      "execution_count": 6,
      "outputs": [
        {
          "output_type": "execute_result",
          "data": {
            "text/plain": [
              "int"
            ]
          },
          "metadata": {
            "tags": []
          },
          "execution_count": 6
        }
      ]
    },
    {
      "cell_type": "code",
      "metadata": {
        "colab": {
          "base_uri": "https://localhost:8080/"
        },
        "id": "65zBS3SYsjB1",
        "outputId": "c9a850c5-290c-49fe-8d36-98baefabf426"
      },
      "source": [
        "#list string\n",
        "L2 = [str(c) for c in L]\n",
        "L2"
      ],
      "execution_count": 7,
      "outputs": [
        {
          "output_type": "execute_result",
          "data": {
            "text/plain": [
              "['0', '1', '2', '3', '4', '5', '6', '7', '8', '9']"
            ]
          },
          "metadata": {
            "tags": []
          },
          "execution_count": 7
        }
      ]
    },
    {
      "cell_type": "code",
      "metadata": {
        "colab": {
          "base_uri": "https://localhost:8080/"
        },
        "id": "b-wcHxt4s5YS",
        "outputId": "570d78b9-823b-4bac-c22b-500db8861698"
      },
      "source": [
        "type(L2[0])"
      ],
      "execution_count": 8,
      "outputs": [
        {
          "output_type": "execute_result",
          "data": {
            "text/plain": [
              "str"
            ]
          },
          "metadata": {
            "tags": []
          },
          "execution_count": 8
        }
      ]
    },
    {
      "cell_type": "code",
      "metadata": {
        "colab": {
          "base_uri": "https://localhost:8080/"
        },
        "id": "Ktmwflhms_wf",
        "outputId": "6491a2fa-5057-4d5a-f061-a4556c600ed1"
      },
      "source": [
        "#list heterogen\n",
        "L3 = [True, \"2\", 3.0, 4]\n",
        "[type(item) for item in L3]"
      ],
      "execution_count": 9,
      "outputs": [
        {
          "output_type": "execute_result",
          "data": {
            "text/plain": [
              "[bool, str, float, int]"
            ]
          },
          "metadata": {
            "tags": []
          },
          "execution_count": 9
        }
      ]
    },
    {
      "cell_type": "markdown",
      "metadata": {
        "id": "YfzxVZiIyl3R"
      },
      "source": [
        "### Fixed-Type Arrays in Python"
      ]
    },
    {
      "cell_type": "code",
      "metadata": {
        "colab": {
          "base_uri": "https://localhost:8080/"
        },
        "id": "3-CUgChOttep",
        "outputId": "308692fb-1855-4dad-c392-a32556235235"
      },
      "source": [
        "#membuat array\n",
        "import array\n",
        "L = list(range(10))\n",
        "A = array.array('l',L)\n",
        "A"
      ],
      "execution_count": 10,
      "outputs": [
        {
          "output_type": "execute_result",
          "data": {
            "text/plain": [
              "array('l', [0, 1, 2, 3, 4, 5, 6, 7, 8, 9])"
            ]
          },
          "metadata": {
            "tags": []
          },
          "execution_count": 10
        }
      ]
    },
    {
      "cell_type": "markdown",
      "metadata": {
        "id": "WhOF011NysXP"
      },
      "source": [
        "### Creating Arrays from Python Lists"
      ]
    },
    {
      "cell_type": "code",
      "metadata": {
        "colab": {
          "base_uri": "https://localhost:8080/"
        },
        "id": "RiiYeUZyt9Yb",
        "outputId": "45d58a7f-3607-4de6-d2b0-18930f08c994"
      },
      "source": [
        "#membuat array dari python list\n",
        "#integer array\n",
        "np.array([1,4,2,5,3])"
      ],
      "execution_count": 11,
      "outputs": [
        {
          "output_type": "execute_result",
          "data": {
            "text/plain": [
              "array([1, 4, 2, 5, 3])"
            ]
          },
          "metadata": {
            "tags": []
          },
          "execution_count": 11
        }
      ]
    },
    {
      "cell_type": "code",
      "metadata": {
        "colab": {
          "base_uri": "https://localhost:8080/"
        },
        "id": "46NSnV5OuL_N",
        "outputId": "5f368f2a-afcb-49c5-c423-93811bc0af1b"
      },
      "source": [
        "#numpy hanya bisa membuat array dengan tipe yang sama, jika tidak sama maka numpy akan upcast.\n",
        "#misalnya disini integer upcast ke float\n",
        "np.array([3.14, 4, 2, 3])\n"
      ],
      "execution_count": 12,
      "outputs": [
        {
          "output_type": "execute_result",
          "data": {
            "text/plain": [
              "array([3.14, 4.  , 2.  , 3.  ])"
            ]
          },
          "metadata": {
            "tags": []
          },
          "execution_count": 12
        }
      ]
    },
    {
      "cell_type": "code",
      "metadata": {
        "colab": {
          "base_uri": "https://localhost:8080/"
        },
        "id": "iesZxFAGuzIZ",
        "outputId": "00e988e3-bcef-4c35-e7b3-f256be0d7ab1"
      },
      "source": [
        "#jika kita ingin menentukan tipe datanya secara langsung, kita dapat menggunakan dtype\n",
        "np.array([1,2,3,4], dtype='float32')"
      ],
      "execution_count": 13,
      "outputs": [
        {
          "output_type": "execute_result",
          "data": {
            "text/plain": [
              "array([1., 2., 3., 4.], dtype=float32)"
            ]
          },
          "metadata": {
            "tags": []
          },
          "execution_count": 13
        }
      ]
    },
    {
      "cell_type": "code",
      "metadata": {
        "colab": {
          "base_uri": "https://localhost:8080/"
        },
        "id": "oO7Mkz-EvKnG",
        "outputId": "401bd1ca-fcbc-4c9e-94ee-a3c20f96bc66"
      },
      "source": [
        "#numpy dapat menginisialisasi array multidimensi menggunakan list of list\n",
        "np.array([range(l,l+3) for l in [2,4,6]])"
      ],
      "execution_count": 14,
      "outputs": [
        {
          "output_type": "execute_result",
          "data": {
            "text/plain": [
              "array([[2, 3, 4],\n",
              "       [4, 5, 6],\n",
              "       [6, 7, 8]])"
            ]
          },
          "metadata": {
            "tags": []
          },
          "execution_count": 14
        }
      ]
    },
    {
      "cell_type": "markdown",
      "metadata": {
        "id": "FI5w936wyz6P"
      },
      "source": [
        "### Creating Arrays from Scratch"
      ]
    },
    {
      "cell_type": "code",
      "metadata": {
        "colab": {
          "base_uri": "https://localhost:8080/"
        },
        "id": "gp0jjIcPvsFo",
        "outputId": "41379d2c-d178-4468-f28b-6aee61e0fe0a"
      },
      "source": [
        "#membuat 10 array integer dengan 0\n",
        "np.zeros(10, dtype=int)"
      ],
      "execution_count": 15,
      "outputs": [
        {
          "output_type": "execute_result",
          "data": {
            "text/plain": [
              "array([0, 0, 0, 0, 0, 0, 0, 0, 0, 0])"
            ]
          },
          "metadata": {
            "tags": []
          },
          "execution_count": 15
        }
      ]
    },
    {
      "cell_type": "code",
      "metadata": {
        "colab": {
          "base_uri": "https://localhost:8080/"
        },
        "id": "XNAAQzcZv3pF",
        "outputId": "66398708-5b1d-48cb-9d98-11012b624d56"
      },
      "source": [
        "#membuat array 3x5 float dengan 1\n",
        "np.ones((3,5), dtype=float)"
      ],
      "execution_count": 16,
      "outputs": [
        {
          "output_type": "execute_result",
          "data": {
            "text/plain": [
              "array([[1., 1., 1., 1., 1.],\n",
              "       [1., 1., 1., 1., 1.],\n",
              "       [1., 1., 1., 1., 1.]])"
            ]
          },
          "metadata": {
            "tags": []
          },
          "execution_count": 16
        }
      ]
    },
    {
      "cell_type": "code",
      "metadata": {
        "colab": {
          "base_uri": "https://localhost:8080/"
        },
        "id": "G2nDuVTawC8P",
        "outputId": "87767225-c6fa-4f3e-bfc2-13732b100cce"
      },
      "source": [
        "#membuat array 3x5 float dengan 1\n",
        "np.full((3,5), 3.14)"
      ],
      "execution_count": 17,
      "outputs": [
        {
          "output_type": "execute_result",
          "data": {
            "text/plain": [
              "array([[3.14, 3.14, 3.14, 3.14, 3.14],\n",
              "       [3.14, 3.14, 3.14, 3.14, 3.14],\n",
              "       [3.14, 3.14, 3.14, 3.14, 3.14]])"
            ]
          },
          "metadata": {
            "tags": []
          },
          "execution_count": 17
        }
      ]
    },
    {
      "cell_type": "code",
      "metadata": {
        "colab": {
          "base_uri": "https://localhost:8080/"
        },
        "id": "LWwwoAQywMtf",
        "outputId": "8e06f5e7-b87d-4bc1-e51e-f28c8b6c5321"
      },
      "source": [
        "# Membuat array yang diisi dengan urutan linier\n",
        "# Mulai dari 0 sampai 20 dengan jarak 2\n",
        "np.arange(0,20,2)"
      ],
      "execution_count": 18,
      "outputs": [
        {
          "output_type": "execute_result",
          "data": {
            "text/plain": [
              "array([ 0,  2,  4,  6,  8, 10, 12, 14, 16, 18])"
            ]
          },
          "metadata": {
            "tags": []
          },
          "execution_count": 18
        }
      ]
    },
    {
      "cell_type": "code",
      "metadata": {
        "colab": {
          "base_uri": "https://localhost:8080/"
        },
        "id": "hMDMLUvawtZd",
        "outputId": "647a8b05-c8e4-419e-c134-d870153a1081"
      },
      "source": [
        "#memuat array dari lima nilai dengan jarak yang sama antara 0 dan 1\n",
        "np.linspace(0,1,5)"
      ],
      "execution_count": 19,
      "outputs": [
        {
          "output_type": "execute_result",
          "data": {
            "text/plain": [
              "array([0.  , 0.25, 0.5 , 0.75, 1.  ])"
            ]
          },
          "metadata": {
            "tags": []
          },
          "execution_count": 19
        }
      ]
    },
    {
      "cell_type": "code",
      "metadata": {
        "colab": {
          "base_uri": "https://localhost:8080/"
        },
        "id": "k6fHuoTtw0dv",
        "outputId": "b516ebde-5beb-4e7d-98ea-8426d925a4ef"
      },
      "source": [
        "#membuat array 3x3 dengan nilai acak antara 0 dan 1\n",
        "np.random.random((3,3))"
      ],
      "execution_count": 20,
      "outputs": [
        {
          "output_type": "execute_result",
          "data": {
            "text/plain": [
              "array([[0.25072976, 0.4654427 , 0.98903189],\n",
              "       [0.15445696, 0.27921617, 0.93919571],\n",
              "       [0.04068667, 0.88255438, 0.12873268]])"
            ]
          },
          "metadata": {
            "tags": []
          },
          "execution_count": 20
        }
      ]
    },
    {
      "cell_type": "code",
      "metadata": {
        "colab": {
          "base_uri": "https://localhost:8080/"
        },
        "id": "mLByjIhhxBmk",
        "outputId": "3b3145f4-c68f-4245-a7d2-5b39c7dc3340"
      },
      "source": [
        "#membuat array 3x3 dengan nilai acak terdistribusi normal\n",
        "#dengan mean 0 dan deviasi standar 1\n",
        "np.random.normal(0,1,(3,3))"
      ],
      "execution_count": 21,
      "outputs": [
        {
          "output_type": "execute_result",
          "data": {
            "text/plain": [
              "array([[ 0.70605699, -0.45137418, -0.03461773],\n",
              "       [ 1.19518368, -0.72683716,  1.68377529],\n",
              "       [ 0.61691071, -2.79726816,  1.22722394]])"
            ]
          },
          "metadata": {
            "tags": []
          },
          "execution_count": 21
        }
      ]
    },
    {
      "cell_type": "code",
      "metadata": {
        "colab": {
          "base_uri": "https://localhost:8080/"
        },
        "id": "gXIc9ZsFxZsB",
        "outputId": "4e896c16-6a84-4390-e555-b7c3f2073728"
      },
      "source": [
        "#membuat array 3x3 dengan random integer pada interval[0,10]\n",
        "np.random.randint(0,10,(3,3))"
      ],
      "execution_count": 22,
      "outputs": [
        {
          "output_type": "execute_result",
          "data": {
            "text/plain": [
              "array([[2, 9, 6],\n",
              "       [5, 0, 2],\n",
              "       [5, 2, 4]])"
            ]
          },
          "metadata": {
            "tags": []
          },
          "execution_count": 22
        }
      ]
    },
    {
      "cell_type": "code",
      "metadata": {
        "colab": {
          "base_uri": "https://localhost:8080/"
        },
        "id": "6H0W2DbxxoDm",
        "outputId": "090b07cd-d3f1-44ae-b6f9-dd1890046984"
      },
      "source": [
        "#membuat matrix identitas 3x3\n",
        "np.eye(3)"
      ],
      "execution_count": 23,
      "outputs": [
        {
          "output_type": "execute_result",
          "data": {
            "text/plain": [
              "array([[1., 0., 0.],\n",
              "       [0., 1., 0.],\n",
              "       [0., 0., 1.]])"
            ]
          },
          "metadata": {
            "tags": []
          },
          "execution_count": 23
        }
      ]
    },
    {
      "cell_type": "code",
      "metadata": {
        "colab": {
          "base_uri": "https://localhost:8080/"
        },
        "id": "XJjeDl4Bx79u",
        "outputId": "318a6283-cac9-41ce-aaf1-3f2d41531496"
      },
      "source": [
        "#membuat 3 integer array yang tidak diinisialisasi\n",
        "#dengan values yang akan menjadi apapun yang sudah ada di lokasi memori\n",
        "np.empty(3)"
      ],
      "execution_count": 24,
      "outputs": [
        {
          "output_type": "execute_result",
          "data": {
            "text/plain": [
              "array([1., 1., 1.])"
            ]
          },
          "metadata": {
            "tags": []
          },
          "execution_count": 24
        }
      ]
    },
    {
      "cell_type": "markdown",
      "metadata": {
        "id": "ohZgqG-qy6Kr"
      },
      "source": [
        "### NumPy Array Attributes"
      ]
    },
    {
      "cell_type": "code",
      "metadata": {
        "id": "dwm75vUjy9gZ"
      },
      "source": [
        "import numpy as np\n",
        "np.random.seed(0) #seed untuk reproduktifitas\n",
        "\n",
        "x1 = np.random.randint(10, size=6) #array satu dimensi\n",
        "x2 = np.random.randint(10, size=(3,4)) #array dua dimensi\n",
        "x3 = np.random.randint(10, size=(3,4,5)) #array tiga dimensi"
      ],
      "execution_count": 25,
      "outputs": []
    },
    {
      "cell_type": "code",
      "metadata": {
        "colab": {
          "base_uri": "https://localhost:8080/"
        },
        "id": "O9J-a5OTzxga",
        "outputId": "e6e7d7f1-22a4-4a40-f461-f245f14fac24"
      },
      "source": [
        "#setiap array memiliki atribut ndim (jumlah dimensi), shape(ukuran masing-masing\n",
        "#dimensi), dan size (ukuran total array)\n",
        "print(\"x3 ndim: \", x3.ndim)\n",
        "print(\"x3 shape: \", x3.shape)\n",
        "print(\"x3 size: \", x3.size)"
      ],
      "execution_count": 26,
      "outputs": [
        {
          "output_type": "stream",
          "text": [
            "x3 ndim:  3\n",
            "x3 shape:  (3, 4, 5)\n",
            "x3 size:  60\n"
          ],
          "name": "stdout"
        }
      ]
    },
    {
      "cell_type": "code",
      "metadata": {
        "colab": {
          "base_uri": "https://localhost:8080/"
        },
        "id": "Nlo04WCq0f8j",
        "outputId": "4fa4f240-d95f-4cbd-bcc1-d4b27f9c0822"
      },
      "source": [
        "print(\"dtype: \",x3.dtype)"
      ],
      "execution_count": 27,
      "outputs": [
        {
          "output_type": "stream",
          "text": [
            "dtype:  int64\n"
          ],
          "name": "stdout"
        }
      ]
    },
    {
      "cell_type": "code",
      "metadata": {
        "colab": {
          "base_uri": "https://localhost:8080/"
        },
        "id": "P08G7DTA0lhS",
        "outputId": "5a871a9d-c09d-4302-b2b2-c748aa428f6a"
      },
      "source": [
        "#atribut lain termasuk ukuran item, yang mencantumkan ukuran (dalam byte) dari setiap elemen array,\n",
        "#dan nbytes, yang mencantumkan ukuran total (dalam byte) dari array\n",
        "print(\"itemsize: \", x3.itemsize, \"bytes\")\n",
        "print(\"nbytes: \", x3.nbytes, \"bytes\")"
      ],
      "execution_count": 28,
      "outputs": [
        {
          "output_type": "stream",
          "text": [
            "itemsize:  8 bytes\n",
            "nbytes:  480 bytes\n"
          ],
          "name": "stdout"
        }
      ]
    },
    {
      "cell_type": "markdown",
      "metadata": {
        "id": "YMbmNYLj0_sr"
      },
      "source": [
        "### Array Indexing:Accessing Single Elements"
      ]
    },
    {
      "cell_type": "code",
      "metadata": {
        "id": "91KumnFl1jyp",
        "colab": {
          "base_uri": "https://localhost:8080/"
        },
        "outputId": "861cfa8c-bee1-4e48-a1b0-617ecb4b610f"
      },
      "source": [
        "x1"
      ],
      "execution_count": 29,
      "outputs": [
        {
          "output_type": "execute_result",
          "data": {
            "text/plain": [
              "array([5, 0, 3, 3, 7, 9])"
            ]
          },
          "metadata": {
            "tags": []
          },
          "execution_count": 29
        }
      ]
    },
    {
      "cell_type": "code",
      "metadata": {
        "colab": {
          "base_uri": "https://localhost:8080/"
        },
        "id": "IlFUKyNzIYit",
        "outputId": "0fde524e-966f-4c5a-9f71-8c001065161d"
      },
      "source": [
        "#akses satu element\n",
        "x1[0]"
      ],
      "execution_count": 30,
      "outputs": [
        {
          "output_type": "execute_result",
          "data": {
            "text/plain": [
              "5"
            ]
          },
          "metadata": {
            "tags": []
          },
          "execution_count": 30
        }
      ]
    },
    {
      "cell_type": "code",
      "metadata": {
        "colab": {
          "base_uri": "https://localhost:8080/"
        },
        "id": "b_68hMSuIdhV",
        "outputId": "b8cea698-7ce7-4085-90fe-554285db1a60"
      },
      "source": [
        "x1[4]"
      ],
      "execution_count": 31,
      "outputs": [
        {
          "output_type": "execute_result",
          "data": {
            "text/plain": [
              "7"
            ]
          },
          "metadata": {
            "tags": []
          },
          "execution_count": 31
        }
      ]
    },
    {
      "cell_type": "code",
      "metadata": {
        "colab": {
          "base_uri": "https://localhost:8080/"
        },
        "id": "dYxDTmcfIfS7",
        "outputId": "ba8e1383-5c39-4f5e-9d73-8a9bd0572aee"
      },
      "source": [
        "#untuk akses index dari akhir array, menggunakan tanda negatif\n",
        "x1[-1]"
      ],
      "execution_count": 32,
      "outputs": [
        {
          "output_type": "execute_result",
          "data": {
            "text/plain": [
              "9"
            ]
          },
          "metadata": {
            "tags": []
          },
          "execution_count": 32
        }
      ]
    },
    {
      "cell_type": "code",
      "metadata": {
        "colab": {
          "base_uri": "https://localhost:8080/"
        },
        "id": "0LNoIgvWIoGE",
        "outputId": "5dff1b5a-8c94-480a-d909-5f5d32940eed"
      },
      "source": [
        "x1[-2]"
      ],
      "execution_count": 33,
      "outputs": [
        {
          "output_type": "execute_result",
          "data": {
            "text/plain": [
              "7"
            ]
          },
          "metadata": {
            "tags": []
          },
          "execution_count": 33
        }
      ]
    },
    {
      "cell_type": "code",
      "metadata": {
        "colab": {
          "base_uri": "https://localhost:8080/"
        },
        "id": "5o8gVdDaI-dJ",
        "outputId": "7682d869-4745-40bf-da9f-37fbde7d8d2d"
      },
      "source": [
        "x2"
      ],
      "execution_count": 34,
      "outputs": [
        {
          "output_type": "execute_result",
          "data": {
            "text/plain": [
              "array([[3, 5, 2, 4],\n",
              "       [7, 6, 8, 8],\n",
              "       [1, 6, 7, 7]])"
            ]
          },
          "metadata": {
            "tags": []
          },
          "execution_count": 34
        }
      ]
    },
    {
      "cell_type": "code",
      "metadata": {
        "colab": {
          "base_uri": "https://localhost:8080/"
        },
        "id": "hEfuHhmBItCk",
        "outputId": "83a90cb6-a780-4ef8-d4f7-9cda379bfc70"
      },
      "source": [
        "#pada array multidimensional, akses item menggunakan koma\n",
        "x2[0,0]"
      ],
      "execution_count": 35,
      "outputs": [
        {
          "output_type": "execute_result",
          "data": {
            "text/plain": [
              "3"
            ]
          },
          "metadata": {
            "tags": []
          },
          "execution_count": 35
        }
      ]
    },
    {
      "cell_type": "code",
      "metadata": {
        "colab": {
          "base_uri": "https://localhost:8080/"
        },
        "id": "Ja84PxLcJCHG",
        "outputId": "58fa147a-47a0-4ae0-d4b6-694645ab7749"
      },
      "source": [
        "x2[2,0]"
      ],
      "execution_count": 36,
      "outputs": [
        {
          "output_type": "execute_result",
          "data": {
            "text/plain": [
              "1"
            ]
          },
          "metadata": {
            "tags": []
          },
          "execution_count": 36
        }
      ]
    },
    {
      "cell_type": "code",
      "metadata": {
        "colab": {
          "base_uri": "https://localhost:8080/"
        },
        "id": "qvCvQH0MJEmu",
        "outputId": "d7849c8e-b289-4103-9930-4dd3ad105ad2"
      },
      "source": [
        "x2[2,-1]"
      ],
      "execution_count": 37,
      "outputs": [
        {
          "output_type": "execute_result",
          "data": {
            "text/plain": [
              "7"
            ]
          },
          "metadata": {
            "tags": []
          },
          "execution_count": 37
        }
      ]
    },
    {
      "cell_type": "code",
      "metadata": {
        "colab": {
          "base_uri": "https://localhost:8080/"
        },
        "id": "ZyDEGmcvJJ54",
        "outputId": "9acb8e21-1678-4626-d576-9743f75435e0"
      },
      "source": [
        "#mengubah value menggunakan notasi index\n",
        "x2[0,0] = 12\n",
        "x2"
      ],
      "execution_count": 38,
      "outputs": [
        {
          "output_type": "execute_result",
          "data": {
            "text/plain": [
              "array([[12,  5,  2,  4],\n",
              "       [ 7,  6,  8,  8],\n",
              "       [ 1,  6,  7,  7]])"
            ]
          },
          "metadata": {
            "tags": []
          },
          "execution_count": 38
        }
      ]
    },
    {
      "cell_type": "code",
      "metadata": {
        "colab": {
          "base_uri": "https://localhost:8080/"
        },
        "id": "8-FzEJM6Jewo",
        "outputId": "4a41da10-0cbc-4270-b99b-4618432916d9"
      },
      "source": [
        "#tidak sama dengan python lists, numpy array memiliki tipe tetap. \n",
        "#artinya, jika kita memasukkan nilai float ke dalam array integer\n",
        "#maka nilai akan terpotong\n",
        "x1[0] = 3.14159\n",
        "x1"
      ],
      "execution_count": 39,
      "outputs": [
        {
          "output_type": "execute_result",
          "data": {
            "text/plain": [
              "array([3, 0, 3, 3, 7, 9])"
            ]
          },
          "metadata": {
            "tags": []
          },
          "execution_count": 39
        }
      ]
    },
    {
      "cell_type": "markdown",
      "metadata": {
        "id": "sUE4SNh_J5lT"
      },
      "source": [
        "### Array Slicing : Accessing Subarrays"
      ]
    },
    {
      "cell_type": "code",
      "metadata": {
        "colab": {
          "base_uri": "https://localhost:8080/"
        },
        "id": "Ed0uLafJKAPX",
        "outputId": "2744e4cd-7bf8-47a1-d9bf-08a2d10f5835"
      },
      "source": [
        "#subarrays satu dimensi\n",
        "x = np.arange(10)\n",
        "x"
      ],
      "execution_count": 40,
      "outputs": [
        {
          "output_type": "execute_result",
          "data": {
            "text/plain": [
              "array([0, 1, 2, 3, 4, 5, 6, 7, 8, 9])"
            ]
          },
          "metadata": {
            "tags": []
          },
          "execution_count": 40
        }
      ]
    },
    {
      "cell_type": "code",
      "metadata": {
        "colab": {
          "base_uri": "https://localhost:8080/"
        },
        "id": "pSMQORo0KSMp",
        "outputId": "6a8f59f8-db71-49e2-d730-b75e79743677"
      },
      "source": [
        "x[:5] #elemen pertama sampai 5"
      ],
      "execution_count": 41,
      "outputs": [
        {
          "output_type": "execute_result",
          "data": {
            "text/plain": [
              "array([0, 1, 2, 3, 4])"
            ]
          },
          "metadata": {
            "tags": []
          },
          "execution_count": 41
        }
      ]
    },
    {
      "cell_type": "code",
      "metadata": {
        "colab": {
          "base_uri": "https://localhost:8080/"
        },
        "id": "8l_7jQwOKfqi",
        "outputId": "95f2a5d1-a444-46fb-ab88-f8c8959050be"
      },
      "source": [
        "x[5:] #elemen sesudah index ke5"
      ],
      "execution_count": 42,
      "outputs": [
        {
          "output_type": "execute_result",
          "data": {
            "text/plain": [
              "array([5, 6, 7, 8, 9])"
            ]
          },
          "metadata": {
            "tags": []
          },
          "execution_count": 42
        }
      ]
    },
    {
      "cell_type": "code",
      "metadata": {
        "colab": {
          "base_uri": "https://localhost:8080/"
        },
        "id": "ifrXRXuUKk8V",
        "outputId": "8ff9e32d-ed4e-45dd-b4e9-29e30cfe357d"
      },
      "source": [
        "x[4:7] #subarray tengah"
      ],
      "execution_count": 43,
      "outputs": [
        {
          "output_type": "execute_result",
          "data": {
            "text/plain": [
              "array([4, 5, 6])"
            ]
          },
          "metadata": {
            "tags": []
          },
          "execution_count": 43
        }
      ]
    },
    {
      "cell_type": "code",
      "metadata": {
        "colab": {
          "base_uri": "https://localhost:8080/"
        },
        "id": "hzGn0ryjKqmv",
        "outputId": "13578a37-3c25-41e6-a1f6-27c069d032ee"
      },
      "source": [
        "x[::2] #setiap elemen lainnya"
      ],
      "execution_count": 44,
      "outputs": [
        {
          "output_type": "execute_result",
          "data": {
            "text/plain": [
              "array([0, 2, 4, 6, 8])"
            ]
          },
          "metadata": {
            "tags": []
          },
          "execution_count": 44
        }
      ]
    },
    {
      "cell_type": "code",
      "metadata": {
        "colab": {
          "base_uri": "https://localhost:8080/"
        },
        "id": "Z6O5ykGaK4-o",
        "outputId": "f07a8e0f-8138-4608-bbc9-5e22ba228a43"
      },
      "source": [
        "x[1::2] #setiap elemen lain, dimulai dari index 1"
      ],
      "execution_count": 45,
      "outputs": [
        {
          "output_type": "execute_result",
          "data": {
            "text/plain": [
              "array([1, 3, 5, 7, 9])"
            ]
          },
          "metadata": {
            "tags": []
          },
          "execution_count": 45
        }
      ]
    },
    {
      "cell_type": "code",
      "metadata": {
        "colab": {
          "base_uri": "https://localhost:8080/"
        },
        "id": "COd8GLDoLA7-",
        "outputId": "49fdb2d9-cd26-4e01-9fb6-1b7b318f72b4"
      },
      "source": [
        "x[::-1] #membalik urutan semua elemen"
      ],
      "execution_count": 46,
      "outputs": [
        {
          "output_type": "execute_result",
          "data": {
            "text/plain": [
              "array([9, 8, 7, 6, 5, 4, 3, 2, 1, 0])"
            ]
          },
          "metadata": {
            "tags": []
          },
          "execution_count": 46
        }
      ]
    },
    {
      "cell_type": "code",
      "metadata": {
        "colab": {
          "base_uri": "https://localhost:8080/"
        },
        "id": "xzSsJYHuLNTR",
        "outputId": "0a033196-e0f2-4e5b-d00b-649425c3a977"
      },
      "source": [
        "x[5::-2] #membalik dari index 5"
      ],
      "execution_count": 47,
      "outputs": [
        {
          "output_type": "execute_result",
          "data": {
            "text/plain": [
              "array([5, 3, 1])"
            ]
          },
          "metadata": {
            "tags": []
          },
          "execution_count": 47
        }
      ]
    },
    {
      "cell_type": "code",
      "metadata": {
        "colab": {
          "base_uri": "https://localhost:8080/"
        },
        "id": "fVa1h9-qLej_",
        "outputId": "4209ef5a-4963-4ca8-a299-0d0397813cec"
      },
      "source": [
        "#subarrays multidimensi\n",
        "x2"
      ],
      "execution_count": 48,
      "outputs": [
        {
          "output_type": "execute_result",
          "data": {
            "text/plain": [
              "array([[12,  5,  2,  4],\n",
              "       [ 7,  6,  8,  8],\n",
              "       [ 1,  6,  7,  7]])"
            ]
          },
          "metadata": {
            "tags": []
          },
          "execution_count": 48
        }
      ]
    },
    {
      "cell_type": "code",
      "metadata": {
        "colab": {
          "base_uri": "https://localhost:8080/"
        },
        "id": "mxGqa0M-LkIJ",
        "outputId": "c5ed1daf-9104-4ed7-ab99-21257bcdba4e"
      },
      "source": [
        "x2[:2,:3] #dua baris, tiga kolom)"
      ],
      "execution_count": 49,
      "outputs": [
        {
          "output_type": "execute_result",
          "data": {
            "text/plain": [
              "array([[12,  5,  2],\n",
              "       [ 7,  6,  8]])"
            ]
          },
          "metadata": {
            "tags": []
          },
          "execution_count": 49
        }
      ]
    },
    {
      "cell_type": "code",
      "metadata": {
        "colab": {
          "base_uri": "https://localhost:8080/"
        },
        "id": "jA2D4k0H02vR",
        "outputId": "a7e530e0-8d24-4739-eb95-53a93ff6ae81"
      },
      "source": [
        "x2[:3,::2] #semua baris, setiap kolom lain"
      ],
      "execution_count": 50,
      "outputs": [
        {
          "output_type": "execute_result",
          "data": {
            "text/plain": [
              "array([[12,  2],\n",
              "       [ 7,  8],\n",
              "       [ 1,  7]])"
            ]
          },
          "metadata": {
            "tags": []
          },
          "execution_count": 50
        }
      ]
    },
    {
      "cell_type": "code",
      "metadata": {
        "colab": {
          "base_uri": "https://localhost:8080/"
        },
        "id": "6HydRvDv1INn",
        "outputId": "2e2a88ac-0c4c-46f1-d6bd-69f8f3a7d31f"
      },
      "source": [
        "#subarray dapat dibalikkan bersama\n",
        "x2[::-1,::-1]"
      ],
      "execution_count": 51,
      "outputs": [
        {
          "output_type": "execute_result",
          "data": {
            "text/plain": [
              "array([[ 7,  7,  6,  1],\n",
              "       [ 8,  8,  6,  7],\n",
              "       [ 4,  2,  5, 12]])"
            ]
          },
          "metadata": {
            "tags": []
          },
          "execution_count": 51
        }
      ]
    },
    {
      "cell_type": "code",
      "metadata": {
        "colab": {
          "base_uri": "https://localhost:8080/"
        },
        "id": "Uwbpf6CT1Wxx",
        "outputId": "02be6802-0cd5-4c5e-debf-d2dd1acfc756"
      },
      "source": [
        "#Mengakses baris dan kolom array.\n",
        "#mengakses single baris atau kolom dari sebuah larik.\n",
        "#dapat dilakukan dengan menggabungkan indeks dan slicing,\n",
        "#menggunakan irisan kosong yang ditandai dengan satu titik dua (:):\n",
        "print(x2[:,0]) #kolom pertama x2"
      ],
      "execution_count": 52,
      "outputs": [
        {
          "output_type": "stream",
          "text": [
            "[12  7  1]\n"
          ],
          "name": "stdout"
        }
      ]
    },
    {
      "cell_type": "code",
      "metadata": {
        "colab": {
          "base_uri": "https://localhost:8080/"
        },
        "id": "a_xOGKDe2gHM",
        "outputId": "1e64c26d-1c5b-4f63-941f-795aea442c36"
      },
      "source": [
        "print(x2[0,:]) #baris pertama x2"
      ],
      "execution_count": 53,
      "outputs": [
        {
          "output_type": "stream",
          "text": [
            "[12  5  2  4]\n"
          ],
          "name": "stdout"
        }
      ]
    },
    {
      "cell_type": "code",
      "metadata": {
        "colab": {
          "base_uri": "https://localhost:8080/"
        },
        "id": "S0zZ5fAv2psc",
        "outputId": "14af087f-345d-4061-ad8e-3d66c39701d9"
      },
      "source": [
        "print(x2[0]) #sama dengan x2[0,:]"
      ],
      "execution_count": 54,
      "outputs": [
        {
          "output_type": "stream",
          "text": [
            "[12  5  2  4]\n"
          ],
          "name": "stdout"
        }
      ]
    },
    {
      "cell_type": "code",
      "metadata": {
        "colab": {
          "base_uri": "https://localhost:8080/"
        },
        "id": "X29GgIK13FZ8",
        "outputId": "b8dc5593-951b-4591-b86f-e17524fab3d4"
      },
      "source": [
        "#subarrays no-copy views\n",
        "print(x2)"
      ],
      "execution_count": 55,
      "outputs": [
        {
          "output_type": "stream",
          "text": [
            "[[12  5  2  4]\n",
            " [ 7  6  8  8]\n",
            " [ 1  6  7  7]]\n"
          ],
          "name": "stdout"
        }
      ]
    },
    {
      "cell_type": "code",
      "metadata": {
        "colab": {
          "base_uri": "https://localhost:8080/"
        },
        "id": "wWMKJAIn3Nzi",
        "outputId": "0dc074dc-d0a5-4320-9980-e2734c65fc7a"
      },
      "source": [
        "#extract subarray 2x2\n",
        "x2_sub = x2[:2,:2]\n",
        "print(x2_sub)"
      ],
      "execution_count": 56,
      "outputs": [
        {
          "output_type": "stream",
          "text": [
            "[[12  5]\n",
            " [ 7  6]]\n"
          ],
          "name": "stdout"
        }
      ]
    },
    {
      "cell_type": "code",
      "metadata": {
        "colab": {
          "base_uri": "https://localhost:8080/"
        },
        "id": "qtg7PBbt3YLH",
        "outputId": "f890dff0-ffc0-4a12-d08a-12d31bfb92f2"
      },
      "source": [
        "#jika kita memodifikasi subarray, maka array original akan berubah juga\n",
        "x2_sub[0,0] = 99\n",
        "print(x2_sub)"
      ],
      "execution_count": 57,
      "outputs": [
        {
          "output_type": "stream",
          "text": [
            "[[99  5]\n",
            " [ 7  6]]\n"
          ],
          "name": "stdout"
        }
      ]
    },
    {
      "cell_type": "code",
      "metadata": {
        "colab": {
          "base_uri": "https://localhost:8080/"
        },
        "id": "d1uuZXAZ3nfy",
        "outputId": "993f3ed2-351f-42c4-c2cc-e6d01c3a7218"
      },
      "source": [
        "print(x2)"
      ],
      "execution_count": 58,
      "outputs": [
        {
          "output_type": "stream",
          "text": [
            "[[99  5  2  4]\n",
            " [ 7  6  8  8]\n",
            " [ 1  6  7  7]]\n"
          ],
          "name": "stdout"
        }
      ]
    },
    {
      "cell_type": "code",
      "metadata": {
        "colab": {
          "base_uri": "https://localhost:8080/"
        },
        "id": "4_nZi2pK3s4i",
        "outputId": "6407f735-adc2-4095-f7fa-04be2d6549af"
      },
      "source": [
        "#membuat salinan array\n",
        "x2_sub_copy = x2[:2,:2].copy()\n",
        "print(x2_sub_copy)"
      ],
      "execution_count": 59,
      "outputs": [
        {
          "output_type": "stream",
          "text": [
            "[[99  5]\n",
            " [ 7  6]]\n"
          ],
          "name": "stdout"
        }
      ]
    },
    {
      "cell_type": "code",
      "metadata": {
        "colab": {
          "base_uri": "https://localhost:8080/"
        },
        "id": "JCtiF9ya4Avl",
        "outputId": "98b0f1f4-a6d5-4205-f09c-538b15145685"
      },
      "source": [
        "#jika kita memodifikasi salinan array ini, maka array original tidak tersentuh\n",
        "x2_sub_copy[0,0] = 42\n",
        "print(x2_sub_copy)"
      ],
      "execution_count": 60,
      "outputs": [
        {
          "output_type": "stream",
          "text": [
            "[[42  5]\n",
            " [ 7  6]]\n"
          ],
          "name": "stdout"
        }
      ]
    },
    {
      "cell_type": "code",
      "metadata": {
        "colab": {
          "base_uri": "https://localhost:8080/"
        },
        "id": "H_NDsNWC4QCo",
        "outputId": "ea340eb3-ee73-4336-a973-68cf0002f2b2"
      },
      "source": [
        "print(x2)"
      ],
      "execution_count": 61,
      "outputs": [
        {
          "output_type": "stream",
          "text": [
            "[[99  5  2  4]\n",
            " [ 7  6  8  8]\n",
            " [ 1  6  7  7]]\n"
          ],
          "name": "stdout"
        }
      ]
    },
    {
      "cell_type": "markdown",
      "metadata": {
        "id": "B87F7oYK4SY9"
      },
      "source": [
        "### Reshaping of Arrays"
      ]
    },
    {
      "cell_type": "code",
      "metadata": {
        "colab": {
          "base_uri": "https://localhost:8080/"
        },
        "id": "5hgxJzUC4WmF",
        "outputId": "af6185d0-d793-49d3-fb6b-a99f1a66c9af"
      },
      "source": [
        "#jika kita ingin membentuk array 3x3 kita dapat menggunakan reshape()\n",
        "grid = np.arange(1,10).reshape((3,3))\n",
        "print(grid)"
      ],
      "execution_count": 62,
      "outputs": [
        {
          "output_type": "stream",
          "text": [
            "[[1 2 3]\n",
            " [4 5 6]\n",
            " [7 8 9]]\n"
          ],
          "name": "stdout"
        }
      ]
    },
    {
      "cell_type": "code",
      "metadata": {
        "colab": {
          "base_uri": "https://localhost:8080/"
        },
        "id": "pP_q0PZA5SLI",
        "outputId": "4bed9634-f024-41cb-aa2a-e47c811827bd"
      },
      "source": [
        "#pola reshape umum lainnya adalah konversi larik satu dimensi menjadi matriks baris atau kolom dua dimensi\n",
        "x = np.array([1,2,3])\n",
        "\n",
        "#baris vektor melalui reshape\n",
        "x.reshape((1,3))"
      ],
      "execution_count": 63,
      "outputs": [
        {
          "output_type": "execute_result",
          "data": {
            "text/plain": [
              "array([[1, 2, 3]])"
            ]
          },
          "metadata": {
            "tags": []
          },
          "execution_count": 63
        }
      ]
    },
    {
      "cell_type": "code",
      "metadata": {
        "colab": {
          "base_uri": "https://localhost:8080/"
        },
        "id": "ww4uaKkA5rtv",
        "outputId": "9bc18685-b7ab-49d3-8cec-da00ebf123f9"
      },
      "source": [
        "#baris baru melalui newaxis\n",
        "x[np.newaxis, :]"
      ],
      "execution_count": 64,
      "outputs": [
        {
          "output_type": "execute_result",
          "data": {
            "text/plain": [
              "array([[1, 2, 3]])"
            ]
          },
          "metadata": {
            "tags": []
          },
          "execution_count": 64
        }
      ]
    },
    {
      "cell_type": "code",
      "metadata": {
        "colab": {
          "base_uri": "https://localhost:8080/"
        },
        "id": "P1OEQm4O54Mf",
        "outputId": "c305056a-8024-4959-aae4-0ba314990dff"
      },
      "source": [
        "#kolom vektor melalui reshape\n",
        "x.reshape((3,1))"
      ],
      "execution_count": 65,
      "outputs": [
        {
          "output_type": "execute_result",
          "data": {
            "text/plain": [
              "array([[1],\n",
              "       [2],\n",
              "       [3]])"
            ]
          },
          "metadata": {
            "tags": []
          },
          "execution_count": 65
        }
      ]
    },
    {
      "cell_type": "code",
      "metadata": {
        "colab": {
          "base_uri": "https://localhost:8080/"
        },
        "id": "oSqKwe7g6DAe",
        "outputId": "23727999-5f8e-4886-ec69-83e7cbdd4d3c"
      },
      "source": [
        "#kolom vektor melalui newaxis\n",
        "x[:, np.newaxis]"
      ],
      "execution_count": 66,
      "outputs": [
        {
          "output_type": "execute_result",
          "data": {
            "text/plain": [
              "array([[1],\n",
              "       [2],\n",
              "       [3]])"
            ]
          },
          "metadata": {
            "tags": []
          },
          "execution_count": 66
        }
      ]
    },
    {
      "cell_type": "markdown",
      "metadata": {
        "id": "B730RcJK6NsS"
      },
      "source": [
        "### Array Concatenation and Splitting"
      ]
    },
    {
      "cell_type": "code",
      "metadata": {
        "colab": {
          "base_uri": "https://localhost:8080/"
        },
        "id": "29Cah4dC6Spr",
        "outputId": "37d1e494-650d-4944-cbd2-f5690bfae7ac"
      },
      "source": [
        "#concatenation of arrays\n",
        "x = np.array([1,2,3])\n",
        "y = np.array([3,2,1])\n",
        "np.concatenate([x,y])"
      ],
      "execution_count": 67,
      "outputs": [
        {
          "output_type": "execute_result",
          "data": {
            "text/plain": [
              "array([1, 2, 3, 3, 2, 1])"
            ]
          },
          "metadata": {
            "tags": []
          },
          "execution_count": 67
        }
      ]
    },
    {
      "cell_type": "code",
      "metadata": {
        "colab": {
          "base_uri": "https://localhost:8080/"
        },
        "id": "RxIbkIt_78hE",
        "outputId": "54e5d8f1-369d-4fc7-e02a-6a7c738717cc"
      },
      "source": [
        "#kita juga dapat menggabungkan array lebih dari dua dalam satu waktu\n",
        "z = [99,99,99]\n",
        "print(np.concatenate([x,y,z]))"
      ],
      "execution_count": 68,
      "outputs": [
        {
          "output_type": "stream",
          "text": [
            "[ 1  2  3  3  2  1 99 99 99]\n"
          ],
          "name": "stdout"
        }
      ]
    },
    {
      "cell_type": "code",
      "metadata": {
        "colab": {
          "base_uri": "https://localhost:8080/"
        },
        "id": "KjdmgDdJ9iwv",
        "outputId": "8fd76543-908b-4f98-f114-7165b58590a5"
      },
      "source": [
        "#np.concatenate juga dapat digunakan untuk array dua dimensi\n",
        "grid = np.array([[1,2,3],\n",
        "                 [4,5,6]])\n",
        "np.concatenate([grid,grid])"
      ],
      "execution_count": 69,
      "outputs": [
        {
          "output_type": "execute_result",
          "data": {
            "text/plain": [
              "array([[1, 2, 3],\n",
              "       [4, 5, 6],\n",
              "       [1, 2, 3],\n",
              "       [4, 5, 6]])"
            ]
          },
          "metadata": {
            "tags": []
          },
          "execution_count": 69
        }
      ]
    },
    {
      "cell_type": "code",
      "metadata": {
        "colab": {
          "base_uri": "https://localhost:8080/"
        },
        "id": "dHQI-6OB-IUo",
        "outputId": "b950b4a2-07af-4c86-b217-02e1c8d107ca"
      },
      "source": [
        "np.concatenate([grid,grid], axis=1)"
      ],
      "execution_count": 70,
      "outputs": [
        {
          "output_type": "execute_result",
          "data": {
            "text/plain": [
              "array([[1, 2, 3, 1, 2, 3],\n",
              "       [4, 5, 6, 4, 5, 6]])"
            ]
          },
          "metadata": {
            "tags": []
          },
          "execution_count": 70
        }
      ]
    },
    {
      "cell_type": "code",
      "metadata": {
        "colab": {
          "base_uri": "https://localhost:8080/"
        },
        "id": "GUJwOANc-SOX",
        "outputId": "7a41062f-752f-4b94-d451-c586c8fc8198"
      },
      "source": [
        "#Untuk array dengan dimensi campuran, akan lebih jelas menggunakan np.vstack\n",
        "#fungsi (tumpukan vertikal) dan np.hstack (tumpukan horizontal)\n",
        "x = np.array([1,2,3])\n",
        "grid = np.array([[9,8,7],\n",
        "                 [6,5,4]])\n",
        "#vertikal stack array\n",
        "np.vstack([x,grid])"
      ],
      "execution_count": 71,
      "outputs": [
        {
          "output_type": "execute_result",
          "data": {
            "text/plain": [
              "array([[1, 2, 3],\n",
              "       [9, 8, 7],\n",
              "       [6, 5, 4]])"
            ]
          },
          "metadata": {
            "tags": []
          },
          "execution_count": 71
        }
      ]
    },
    {
      "cell_type": "code",
      "metadata": {
        "colab": {
          "base_uri": "https://localhost:8080/"
        },
        "id": "LupPvjMO-oDt",
        "outputId": "525ceb24-13dc-4c7f-836c-e5cbbc3a0045"
      },
      "source": [
        "#horizontal stack arrays\n",
        "y = np.array([[99],\n",
        "              [99]])\n",
        "np.hstack([grid,y])"
      ],
      "execution_count": 72,
      "outputs": [
        {
          "output_type": "execute_result",
          "data": {
            "text/plain": [
              "array([[ 9,  8,  7, 99],\n",
              "       [ 6,  5,  4, 99]])"
            ]
          },
          "metadata": {
            "tags": []
          },
          "execution_count": 72
        }
      ]
    },
    {
      "cell_type": "code",
      "metadata": {
        "colab": {
          "base_uri": "https://localhost:8080/"
        },
        "id": "xe26wcpu-9r-",
        "outputId": "505790e1-2901-41e7-f4e5-14c11d7f9d82"
      },
      "source": [
        "#splitting of arrays\n",
        "x = [1,2,3,99,99,3,2,1]\n",
        "x1,x2,x3 = np.split(x,[3,5])\n",
        "print(x1,x2,x3)"
      ],
      "execution_count": 73,
      "outputs": [
        {
          "output_type": "stream",
          "text": [
            "[1 2 3] [99 99] [3 2 1]\n"
          ],
          "name": "stdout"
        }
      ]
    },
    {
      "cell_type": "code",
      "metadata": {
        "colab": {
          "base_uri": "https://localhost:8080/"
        },
        "id": "qaiQRsWZ_EAG",
        "outputId": "ad6aa442-8133-4f4c-e23d-2c86dac735eb"
      },
      "source": [
        "grid = np.arange(16).reshape((4,4))\n",
        "grid"
      ],
      "execution_count": 74,
      "outputs": [
        {
          "output_type": "execute_result",
          "data": {
            "text/plain": [
              "array([[ 0,  1,  2,  3],\n",
              "       [ 4,  5,  6,  7],\n",
              "       [ 8,  9, 10, 11],\n",
              "       [12, 13, 14, 15]])"
            ]
          },
          "metadata": {
            "tags": []
          },
          "execution_count": 74
        }
      ]
    },
    {
      "cell_type": "code",
      "metadata": {
        "colab": {
          "base_uri": "https://localhost:8080/"
        },
        "id": "ALyG7h8y_D84",
        "outputId": "f0556d0e-922b-46b1-d753-5e889034b4f7"
      },
      "source": [
        "#split vertikal\n",
        "upper, lower = np.vsplit(grid,[2])\n",
        "print(upper)\n",
        "print(lower)"
      ],
      "execution_count": 75,
      "outputs": [
        {
          "output_type": "stream",
          "text": [
            "[[0 1 2 3]\n",
            " [4 5 6 7]]\n",
            "[[ 8  9 10 11]\n",
            " [12 13 14 15]]\n"
          ],
          "name": "stdout"
        }
      ]
    },
    {
      "cell_type": "code",
      "metadata": {
        "colab": {
          "base_uri": "https://localhost:8080/"
        },
        "id": "-wguXcbJ_sa1",
        "outputId": "6bd65088-7619-4178-aab6-53947d6ed95f"
      },
      "source": [
        "#split horizontal\n",
        "left,right = np.hsplit(grid,[2])\n",
        "print(left)\n",
        "print(right)"
      ],
      "execution_count": 76,
      "outputs": [
        {
          "output_type": "stream",
          "text": [
            "[[ 0  1]\n",
            " [ 4  5]\n",
            " [ 8  9]\n",
            " [12 13]]\n",
            "[[ 2  3]\n",
            " [ 6  7]\n",
            " [10 11]\n",
            " [14 15]]\n"
          ],
          "name": "stdout"
        }
      ]
    }
  ]
}